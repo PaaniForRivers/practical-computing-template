{
 "cells": [
  {
   "cell_type": "markdown",
   "id": "b03b1f98-fea8-4e2f-8f2c-26c7252d750f",
   "metadata": {},
   "source": [
    "# Assignment 02"
   ]
  },
  {
   "attachments": {},
   "cell_type": "markdown",
   "id": "16bf256a",
   "metadata": {},
   "source": [
    "Some of the problems in this assignment require additional files to test them. The sample files are created using `%%file` right after the problem desciption. \n",
    "\n",
    "Please clik on the `Run All Cells` menu item from the `Run` menu to execute all the cells and create the required files before you start solving the problems. Please note that you just need to do that only once."
   ]
  },
  {
   "cell_type": "markdown",
   "id": "51b4d2b2-6d73-4a5f-85a6-e4a1b8a2a3e4",
   "metadata": {},
   "source": [
    "## Problem 1: Digit Count"
   ]
  },
  {
   "attachments": {},
   "cell_type": "markdown",
   "id": "5bd354c1",
   "metadata": {},
   "source": [
    "Write a function `digit_count` that takes a number and a digit as argument and returns the number of times the digit is present in that number.\n",
    "\n",
    "```python\n",
    ">>> digit_count(1231, 1)\n",
    "2\n",
    ">>> digit_count(1231, 3)\n",
    "1\n",
    ">>> digit_count(1231, 9)\n",
    "0\n",
    "```\n",
    "\n",
    "**Hint:**\n",
    "\n",
    "```python\n",
    ">>> \"mathematics\".count(\"mat\")\n",
    "2\n",
    "```"
   ]
  },
  {
   "cell_type": "code",
   "execution_count": 4,
   "id": "930632aa",
   "metadata": {},
   "outputs": [
    {
     "data": {
      "text/plain": [
       "3"
      ]
     },
     "execution_count": 4,
     "metadata": {},
     "output_type": "execute_result"
    }
   ],
   "source": [
    "def digit_count(number,d):\n",
    "    number_str = str(number)\n",
    "    digit_str = str(d)\n",
    "    dig_cnt = number_str.count(digit_str)\n",
    "    return dig_cnt\n",
    "digit_count(123331, 3)"
   ]
  },
  {
   "cell_type": "code",
   "execution_count": null,
   "id": "5ae4a893",
   "metadata": {},
   "outputs": [],
   "source": []
  },
  {
   "cell_type": "code",
   "execution_count": null,
   "id": "0788982f",
   "metadata": {},
   "outputs": [],
   "source": []
  },
  {
   "cell_type": "code",
   "execution_count": null,
   "id": "1b4bb6c3",
   "metadata": {},
   "outputs": [],
   "source": []
  },
  {
   "cell_type": "markdown",
   "id": "7b4e0faf",
   "metadata": {},
   "source": [
    "## Problem 2: Despace\n",
    "\n",
    "Write a function `despace` to remove all the spaces from a string.\n",
    "\n",
    "```python\n",
    ">>> despace(\"hello world\")\n",
    "'helloworld'\n",
    ">>> despace(\"a b c d e\")\n",
    "'abcde'\n",
    ">>> despace(\"pi seconds is a nano century\")\n",
    "'pisecondsisananocentury'\n",
    "```"
   ]
  },
  {
   "cell_type": "code",
   "execution_count": 12,
   "id": "3ca96d8b",
   "metadata": {},
   "outputs": [],
   "source": [
    "def despace(line):\n",
    "    ## Split the line\n",
    "    no_spaces = line.split()\n",
    "    join = \"\".join(no_spaces)\n",
    "    return join"
   ]
  },
  {
   "cell_type": "code",
   "execution_count": 9,
   "id": "d924248a",
   "metadata": {},
   "outputs": [
    {
     "data": {
      "text/plain": [
       "'helloworld'"
      ]
     },
     "execution_count": 9,
     "metadata": {},
     "output_type": "execute_result"
    }
   ],
   "source": [
    "despace(\"hello world\")"
   ]
  },
  {
   "attachments": {},
   "cell_type": "markdown",
   "id": "fa3a6d98",
   "metadata": {},
   "source": [
    "## Problem 3: Reverse Words"
   ]
  },
  {
   "attachments": {},
   "cell_type": "markdown",
   "id": "3f39a626",
   "metadata": {},
   "source": [
    "Write a function `reverse_words` that takes a sentence and returns a new sentence with all the words in the reserse order.\n",
    "\n",
    "```\n",
    ">>> reverse_words(\"joy of programming\")\n",
    "'programming of joy'\n",
    "\n",
    ">>> reverse_words(\"less is more\")\n",
    "'more is less'\n",
    "\n",
    ">>> reverse_words(\"road goes ever on and on\")\n",
    "'on and on ever goes road'\n",
    "```\n",
    "\n",
    "Please note that only the order of the words in the sentence is reversed, not the letters in each word."
   ]
  },
  {
   "cell_type": "code",
   "execution_count": 16,
   "id": "a1476745",
   "metadata": {},
   "outputs": [
    {
     "data": {
      "text/plain": [
       "'programming of joy'"
      ]
     },
     "execution_count": 16,
     "metadata": {},
     "output_type": "execute_result"
    }
   ],
   "source": [
    "def reverse_words(line):\n",
    "    words = line.split()\n",
    "    reversed_words = words[::-1]\n",
    "    reversed_sentence = \" \".join(reversed_words)\n",
    "    return reversed_sentence\n",
    "reverse_words(\"joy of programming\")"
   ]
  },
  {
   "cell_type": "code",
   "execution_count": null,
   "id": "0948f2fe",
   "metadata": {},
   "outputs": [],
   "source": []
  },
  {
   "cell_type": "code",
   "execution_count": null,
   "id": "a06024a1",
   "metadata": {},
   "outputs": [],
   "source": []
  },
  {
   "cell_type": "markdown",
   "id": "32667917",
   "metadata": {},
   "source": [
    "## Problem 4: Five Words"
   ]
  },
  {
   "attachments": {},
   "cell_type": "markdown",
   "id": "1252ac2c",
   "metadata": {},
   "source": [
    "Write a function `five_words` that takes a sentence as an argument and returns the part of the sentence with just the first five words.\n",
    "\n",
    "```\n",
    ">>> five_words(\"one two three four five six seven\")\n",
    "'one two three four five'\n",
    "\n",
    ">>> five_words(\"pi seconds is a nano century\")\n",
    "'pi seconds is a nano'\n",
    "\n",
    ">>> five_words(\"Anything that can go wrong, will go wrong.\")\n",
    "'Anythong that can go wrong,'\n",
    "\n",
    ">>> five_words(\"This is fun!\")\n",
    "'This is fun!'\n",
    "```\n",
    "\n",
    "Please note that if the sentence has less than 5 words, than it returns the same sentence."
   ]
  },
  {
   "cell_type": "code",
   "execution_count": 26,
   "id": "ef8afa72",
   "metadata": {},
   "outputs": [
    {
     "data": {
      "text/plain": [
       "'one two three four five six'"
      ]
     },
     "execution_count": 26,
     "metadata": {},
     "output_type": "execute_result"
    }
   ],
   "source": [
    "def five_words(sentence):\n",
    "    all_words = sentence.split()\n",
    "    length = len(all_words)\n",
    "    first_five_words = all_words[0:6]\n",
    "    five_wrd_sent = \" \".join(first_five_words)\n",
    "    return five_wrd_sent\n",
    "five_words(\"one two three four five six seven\")\n"
   ]
  },
  {
   "cell_type": "code",
   "execution_count": 27,
   "id": "773af334",
   "metadata": {},
   "outputs": [
    {
     "data": {
      "text/plain": [
       "'pi seconds is a nano century'"
      ]
     },
     "execution_count": 27,
     "metadata": {},
     "output_type": "execute_result"
    }
   ],
   "source": [
    "five_words(\"pi seconds is a nano century\")"
   ]
  },
  {
   "cell_type": "code",
   "execution_count": null,
   "id": "267eb1d4",
   "metadata": {},
   "outputs": [],
   "source": []
  },
  {
   "cell_type": "code",
   "execution_count": null,
   "id": "8f7af87a",
   "metadata": {},
   "outputs": [],
   "source": []
  },
  {
   "cell_type": "code",
   "execution_count": null,
   "id": "1eafc531",
   "metadata": {},
   "outputs": [],
   "source": []
  },
  {
   "attachments": {},
   "cell_type": "markdown",
   "id": "2d829ab6",
   "metadata": {},
   "source": [
    "## Problem 5: Get Extension"
   ]
  },
  {
   "attachments": {},
   "cell_type": "markdown",
   "id": "c3836718",
   "metadata": {},
   "source": [
    "Write a function `getext` that takes a filename as argument and returns the extension of the file. The suffix after the last `.` character in a filename is considered as the extension. For simplicity, assume that given filename will always have an extension.\n",
    "\n",
    "```\n",
    ">>> getext(\"hello.py\")\n",
    "'py'\n",
    ">>> getext(\"code.zip\")\n",
    "'zip'\n",
    ">>> getext(\"code.tar.gz\")\n",
    "'gz'"
   ]
  },
  {
   "cell_type": "code",
   "execution_count": 30,
   "id": "9e63bb55",
   "metadata": {},
   "outputs": [
    {
     "data": {
      "text/plain": [
       "'py'"
      ]
     },
     "execution_count": 30,
     "metadata": {},
     "output_type": "execute_result"
    }
   ],
   "source": [
    "def getext(filename):\n",
    "    split = filename.split('.')\n",
    "    return split[-1]\n",
    "    \n",
    "getext(\"hello.py\")\n",
    "    "
   ]
  },
  {
   "cell_type": "code",
   "execution_count": 31,
   "id": "e03b0756",
   "metadata": {},
   "outputs": [
    {
     "data": {
      "text/plain": [
       "'gz'"
      ]
     },
     "execution_count": 31,
     "metadata": {},
     "output_type": "execute_result"
    }
   ],
   "source": [
    "getext(\"code.tar.gz\")"
   ]
  },
  {
   "cell_type": "code",
   "execution_count": null,
   "id": "d5b667e0",
   "metadata": {},
   "outputs": [],
   "source": []
  },
  {
   "attachments": {},
   "cell_type": "markdown",
   "id": "382d67c7",
   "metadata": {},
   "source": [
    "## Problem 6: Print Upper"
   ]
  },
  {
   "attachments": {},
   "cell_type": "markdown",
   "id": "5c26bf0d",
   "metadata": {},
   "source": [
    "Write a function `print_upper` that takes a filename as argument and prints all the contents of the file in uppercase.\n",
    "\n",
    "```\n",
    ">>> print_upper(\"five.txt\")\n",
    "ONE\n",
    "TWO\n",
    "THREE\n",
    "FOUR\n",
    "FIVE\n",
    "```"
   ]
  },
  {
   "cell_type": "code",
   "execution_count": 2,
   "id": "ae3761e8",
   "metadata": {},
   "outputs": [
    {
     "name": "stdout",
     "output_type": "stream",
     "text": [
      "Overwriting five.txt\n"
     ]
    }
   ],
   "source": [
    "%%file five.txt\n",
    "one\n",
    "two\n",
    "three\n",
    "four\n",
    "five"
   ]
  },
  {
   "cell_type": "code",
   "execution_count": 15,
   "id": "739ea19b",
   "metadata": {},
   "outputs": [
    {
     "name": "stdout",
     "output_type": "stream",
     "text": [
      "ONE\n",
      "TWO\n",
      "THREE\n",
      "FOUR\n",
      "FIVE\n"
     ]
    }
   ],
   "source": [
    "def print_upper(filename):\n",
    "    # split the line\n",
    "    file_contents = open(filename).read().strip()\n",
    "    return(print(file_contents.upper()))\n",
    "print_upper(\"five.txt\")   "
   ]
  },
  {
   "cell_type": "code",
   "execution_count": null,
   "id": "51860d01",
   "metadata": {},
   "outputs": [],
   "source": []
  },
  {
   "attachments": {},
   "cell_type": "markdown",
   "id": "a6069961",
   "metadata": {},
   "source": [
    "## Problem 7: Largest Number In a File"
   ]
  },
  {
   "attachments": {},
   "cell_type": "markdown",
   "id": "c6e51caf",
   "metadata": {},
   "source": [
    "Write a function `largest_number_in_file` that takes a name of a file containing numbers as an arguments and returns largest number in that file.\n",
    "\n",
    "```\n",
    ">>> largest_number_in_file(\"5.txt\")\n",
    "5\n",
    ">>> largest_number_in_file(\"numbers.txt\")\n",
    "9\n",
    "```\n",
    "\n",
    "The sample input files are provided below.\n",
    "\n",
    "**Hint:**\n",
    "\n",
    "The built-in function `max` takes a list a numbers as arguments and returns the maximum among them.\n",
    "\n",
    "\n",
    "```\n",
    ">>> max([1, 2, 3, 4, 5])\n",
    "5\n",
    "```"
   ]
  },
  {
   "cell_type": "markdown",
   "id": "0fb43ac7",
   "metadata": {},
   "source": [
    "Sample Input Files:"
   ]
  },
  {
   "cell_type": "code",
   "execution_count": 16,
   "id": "3f2f56cf",
   "metadata": {},
   "outputs": [
    {
     "name": "stdout",
     "output_type": "stream",
     "text": [
      "Writing 5.txt\n"
     ]
    }
   ],
   "source": [
    "%%file 5.txt\n",
    "1\n",
    "2\n",
    "3\n",
    "4\n",
    "5"
   ]
  },
  {
   "cell_type": "code",
   "execution_count": 17,
   "id": "3073901e",
   "metadata": {},
   "outputs": [
    {
     "name": "stdout",
     "output_type": "stream",
     "text": [
      "Writing numbers.txt\n"
     ]
    }
   ],
   "source": [
    "%%file numbers.txt\n",
    "6\n",
    "1\n",
    "9 \n",
    "2 \n",
    "0\n",
    "5"
   ]
  },
  {
   "cell_type": "markdown",
   "id": "9e37e4de",
   "metadata": {},
   "source": [
    "Your Code:"
   ]
  },
  {
   "cell_type": "code",
   "execution_count": 34,
   "id": "32ddbad2",
   "metadata": {},
   "outputs": [
    {
     "data": {
      "text/plain": [
       "9"
      ]
     },
     "execution_count": 34,
     "metadata": {},
     "output_type": "execute_result"
    }
   ],
   "source": [
    "def max_number(filename):\n",
    "    # Read the file\n",
    "    file_contents = open(filename).read().strip()\n",
    "\n",
    "    # Initialize a list to store the numbers\n",
    "    file_contents_num = []\n",
    "\n",
    "    # Loop through the numbers and convert them to integers\n",
    "    for num in file_contents.split():\n",
    "      file_contents_num.append(int(num))\n",
    "    return max(file_contents_num)\n",
    "max_number(\"numbers.txt\")"
   ]
  },
  {
   "cell_type": "code",
   "execution_count": 37,
   "id": "6d708562",
   "metadata": {},
   "outputs": [
    {
     "data": {
      "text/plain": [
       "5"
      ]
     },
     "execution_count": 37,
     "metadata": {},
     "output_type": "execute_result"
    }
   ],
   "source": [
    "max_number(\"5.txt\")"
   ]
  },
  {
   "cell_type": "code",
   "execution_count": null,
   "id": "43fa53cf",
   "metadata": {},
   "outputs": [],
   "source": []
  },
  {
   "attachments": {},
   "cell_type": "markdown",
   "id": "5cf3c89e",
   "metadata": {},
   "source": [
    "## Problem 8: Word Count"
   ]
  },
  {
   "attachments": {},
   "cell_type": "markdown",
   "id": "2cad4174",
   "metadata": {},
   "source": [
    "Write a function `word_count` that takes a filename as an argument and returns the number of words present in that file.\n",
    "\n",
    "\n",
    "```\n",
    ">>> word_count(\"words.txt\")\n",
    "10\n",
    ">>> word_count(\"5.txt\")\n",
    "5\n",
    "```"
   ]
  },
  {
   "cell_type": "markdown",
   "id": "f89b01fb",
   "metadata": {},
   "source": [
    "Sample input files:"
   ]
  },
  {
   "cell_type": "code",
   "execution_count": 38,
   "id": "7cf01a94",
   "metadata": {},
   "outputs": [
    {
     "name": "stdout",
     "output_type": "stream",
     "text": [
      "Writing words.txt\n"
     ]
    }
   ],
   "source": [
    "%%file words.txt\n",
    "one\n",
    "one two\n",
    "one two three\n",
    "one two three four"
   ]
  },
  {
   "cell_type": "code",
   "execution_count": 39,
   "id": "71b4ca39",
   "metadata": {},
   "outputs": [
    {
     "name": "stdout",
     "output_type": "stream",
     "text": [
      "Overwriting 5.txt\n"
     ]
    }
   ],
   "source": [
    "%%file 5.txt\n",
    "1\n",
    "2\n",
    "3\n",
    "4\n",
    "5"
   ]
  },
  {
   "attachments": {},
   "cell_type": "markdown",
   "id": "594d7d65",
   "metadata": {},
   "source": [
    "Your code:"
   ]
  },
  {
   "cell_type": "code",
   "execution_count": 44,
   "id": "9a619f86",
   "metadata": {},
   "outputs": [
    {
     "data": {
      "text/plain": [
       "10"
      ]
     },
     "execution_count": 44,
     "metadata": {},
     "output_type": "execute_result"
    }
   ],
   "source": [
    "def word_count(filename):\n",
    "    file_contents_read = open(filename).read().split()\n",
    "    num_words = len(file_contents_read)\n",
    "    return (num_words)\n",
    "word_count(\"words.txt\")"
   ]
  },
  {
   "cell_type": "code",
   "execution_count": 45,
   "id": "31ddb124",
   "metadata": {},
   "outputs": [
    {
     "data": {
      "text/plain": [
       "5"
      ]
     },
     "execution_count": 45,
     "metadata": {},
     "output_type": "execute_result"
    }
   ],
   "source": [
    "word_count(\"5.txt\")"
   ]
  },
  {
   "cell_type": "code",
   "execution_count": 46,
   "id": "3e305e54",
   "metadata": {},
   "outputs": [
    {
     "name": "stdout",
     "output_type": "stream",
     "text": [
      "Writing longlist.txt\n"
     ]
    }
   ],
   "source": [
    "%%file longlist.txt\n",
    "one five six\n",
    "eight ten twelve\n",
    "thirteen\n",
    "11111\n",
    "22222\n",
    "33333\n",
    "55 \n",
    "66 77 88"
   ]
  },
  {
   "cell_type": "code",
   "execution_count": 47,
   "id": "ea0af207",
   "metadata": {},
   "outputs": [
    {
     "data": {
      "text/plain": [
       "14"
      ]
     },
     "execution_count": 47,
     "metadata": {},
     "output_type": "execute_result"
    }
   ],
   "source": [
    "word_count(\"longlist.txt\")"
   ]
  },
  {
   "attachments": {},
   "cell_type": "markdown",
   "id": "d8660845",
   "metadata": {},
   "source": [
    "## Problem 9: List Files"
   ]
  },
  {
   "attachments": {},
   "cell_type": "markdown",
   "id": "89f82e05",
   "metadata": {},
   "source": [
    "Write a function `list_files` that takes path to a directory and an extension as arguments and returns the list of files in that directory that has the specified extension.\n",
    "\n",
    "```\n",
    ">>> list_files(\"testdata\", \"txt\")\n",
    "[\"a.txt\", \"b.txt\", \"c.txt\"]\n",
    "\n",
    ">>> list_files(\"testdata\", \"py\")\n",
    "[\"hello.py\", \"square.py\"]\n",
    "```"
   ]
  },
  {
   "attachments": {},
   "cell_type": "markdown",
   "id": "bd33a92d",
   "metadata": {},
   "source": [
    "The following commands create the required files for this problem."
   ]
  },
  {
   "cell_type": "code",
   "execution_count": 48,
   "id": "ae2e0715",
   "metadata": {},
   "outputs": [
    {
     "name": "stdout",
     "output_type": "stream",
     "text": [
      "mkdir: testdata: File exists\n"
     ]
    }
   ],
   "source": [
    "!mkdir testdata\n",
    "!echo > testdata/a.txt\n",
    "!echo > testdata/b.txt\n",
    "!echo > testdata/c.txt\n",
    "!echo > testdata/hello.py\n",
    "!echo > testdata/square.py"
   ]
  },
  {
   "cell_type": "markdown",
   "id": "9759ee06",
   "metadata": {},
   "source": [
    "Your code:"
   ]
  },
  {
   "cell_type": "code",
   "execution_count": 50,
   "id": "55c7242e",
   "metadata": {},
   "outputs": [],
   "source": [
    "import os\n",
    "\n",
    "def list_files(dirname, ext):\n",
    "    \n",
    "    # read all file names in the directory\n",
    "    filenames_all = os.listdir(dirname) \n",
    "\n",
    "    #Initialize an empty matching files list\n",
    "    matching_files=[]\n",
    "\n",
    "    # for every file name, check the pattern \n",
    "    for name in filenames_all:\n",
    "        if name.endswith(ext):\n",
    "          matching_files.append(name)\n",
    "    return (matching_files)\n"
   ]
  },
  {
   "cell_type": "code",
   "execution_count": 52,
   "id": "c922c402",
   "metadata": {},
   "outputs": [
    {
     "data": {
      "text/plain": [
       "['c.txt', 'b.txt', 'a.txt']"
      ]
     },
     "execution_count": 52,
     "metadata": {},
     "output_type": "execute_result"
    }
   ],
   "source": [
    "list_files (\"testdata\",\"txt\")"
   ]
  },
  {
   "cell_type": "code",
   "execution_count": 53,
   "id": "422746b9",
   "metadata": {},
   "outputs": [
    {
     "data": {
      "text/plain": [
       "['hello.py', 'square.py']"
      ]
     },
     "execution_count": 53,
     "metadata": {},
     "output_type": "execute_result"
    }
   ],
   "source": [
    "list_files (\"testdata\",\"py\")"
   ]
  },
  {
   "cell_type": "code",
   "execution_count": null,
   "id": "2ffa7d07",
   "metadata": {},
   "outputs": [],
   "source": []
  },
  {
   "attachments": {},
   "cell_type": "markdown",
   "id": "2b9551f3",
   "metadata": {},
   "source": [
    "## Problem 10: Grep "
   ]
  },
  {
   "attachments": {},
   "cell_type": "markdown",
   "id": "848f6dd3",
   "metadata": {},
   "source": [
    "Write a function `grep` that takes a pattern and a filename as argument and returns all the lines that contain that pattern.\n",
    "\n",
    "```\n",
    ">>> grep('pipe', 'poem.txt')\n",
    "['So I piped with merry chear,\\n',\n",
    " 'Piper pipe that song again-\\n',\n",
    " 'So I piped, he wept to hear.\\n']\n",
    "\n",
    ">>> grep('hear', 'poem.txt')\n",
    "['So I piped with merry chear,\\n', \n",
    " 'So I piped, he wept to hear.\\n']\n",
    "```"
   ]
  },
  {
   "cell_type": "code",
   "execution_count": 54,
   "id": "a2b2a3ff",
   "metadata": {},
   "outputs": [
    {
     "name": "stdout",
     "output_type": "stream",
     "text": [
      "Writing poem.txt\n"
     ]
    }
   ],
   "source": [
    "%%file poem.txt\n",
    "Piping down the valleys wild\n",
    "Piping songs of pleasant glee\n",
    "On a cloud I saw a child.\n",
    "And he laughing said to me.\n",
    "\n",
    "Pipe a song about a Lamb;\n",
    "So I piped with merry chear,\n",
    "Piper pipe that song again-\n",
    "So I piped, he wept to hear."
   ]
  },
  {
   "cell_type": "code",
   "execution_count": 74,
   "id": "aaf1d907",
   "metadata": {},
   "outputs": [],
   "source": [
    "def grep(pattern_string,filename):\n",
    "   # intialize an empty array\n",
    "   matching_lines= []\n",
    "   for line in open(filename):\n",
    "      if pattern_string in line:\n",
    "        matching_lines.append(line.strip())\n",
    "    \n",
    "   print(matching_lines)"
   ]
  },
  {
   "cell_type": "code",
   "execution_count": 75,
   "id": "a4dca317",
   "metadata": {},
   "outputs": [
    {
     "name": "stdout",
     "output_type": "stream",
     "text": [
      "['So I piped with merry chear,', 'Piper pipe that song again-', 'So I piped, he wept to hear.']\n"
     ]
    }
   ],
   "source": [
    "grep(\"pipe\", \"poem.txt\")"
   ]
  },
  {
   "cell_type": "code",
   "execution_count": 76,
   "id": "cd703291",
   "metadata": {},
   "outputs": [
    {
     "name": "stdout",
     "output_type": "stream",
     "text": [
      "['Piping songs of pleasant glee', 'Pipe a song about a Lamb;', 'Piper pipe that song again-']\n"
     ]
    }
   ],
   "source": [
    "grep(\"song\", \"poem.txt\")"
   ]
  },
  {
   "cell_type": "code",
   "execution_count": null,
   "id": "cc74a744",
   "metadata": {},
   "outputs": [],
   "source": []
  }
 ],
 "metadata": {
  "kernelspec": {
   "display_name": "Python 3 (ipykernel)",
   "language": "python",
   "name": "python3"
  },
  "language_info": {
   "codemirror_mode": {
    "name": "ipython",
    "version": 3
   },
   "file_extension": ".py",
   "mimetype": "text/x-python",
   "name": "python",
   "nbconvert_exporter": "python",
   "pygments_lexer": "ipython3",
   "version": "3.12.5"
  }
 },
 "nbformat": 4,
 "nbformat_minor": 5
}
