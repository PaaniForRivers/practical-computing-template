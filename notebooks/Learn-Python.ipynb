{
 "cells": [
  {
   "cell_type": "markdown",
   "id": "fd1af0d8-a52f-456b-ba09-f0bb6e79b396",
   "metadata": {},
   "source": [
    "Numbers, Strings , Lists and Dictonaries\n"
   ]
  },
  {
   "cell_type": "markdown",
   "id": "9fe4d58b-f658-4cb8-a295-bac89653f5c0",
   "metadata": {},
   "source": [
    "Numbers\n"
   ]
  },
  {
   "cell_type": "code",
   "execution_count": 5,
   "id": "d1660e01-abd6-4303-9b0a-257a77093079",
   "metadata": {},
   "outputs": [
    {
     "data": {
      "text/plain": [
       "0.30000000000000004"
      ]
     },
     "execution_count": 5,
     "metadata": {},
     "output_type": "execute_result"
    }
   ],
   "source": [
    "0.1+0.2\n"
   ]
  },
  {
   "cell_type": "markdown",
   "id": "88f18e00-a96f-49cd-b812-a3c2a38e5121",
   "metadata": {
    "scrolled": true
   },
   "source": [
    "see https://0.30000000000000004.com/ to know why this works like this "
   ]
  },
  {
   "cell_type": "markdown",
   "id": "69b19d5c-a64e-4e1e-ac91-a366401cd53a",
   "metadata": {
    "scrolled": true
   },
   "source": [
    "pay attention to division of numbers\n"
   ]
  },
  {
   "cell_type": "code",
   "execution_count": 6,
   "id": "1049c634-bc59-4cde-b7f6-fcff3389eab3",
   "metadata": {},
   "outputs": [
    {
     "data": {
      "text/plain": [
       "3.5"
      ]
     },
     "execution_count": 6,
     "metadata": {},
     "output_type": "execute_result"
    }
   ],
   "source": [
    "7/2"
   ]
  },
  {
   "cell_type": "markdown",
   "id": "c3b1972f-d014-487f-b0d7-6da55f358fd6",
   "metadata": {},
   "source": [
    "if you want to integer division, use the // operator "
   ]
  },
  {
   "cell_type": "code",
   "execution_count": 7,
   "id": "2c3c969d-83b2-4e7d-9594-b3a4d9493736",
   "metadata": {},
   "outputs": [
    {
     "data": {
      "text/plain": [
       "3"
      ]
     },
     "execution_count": 7,
     "metadata": {},
     "output_type": "execute_result"
    }
   ],
   "source": [
    "7//2"
   ]
  },
  {
   "cell_type": "markdown",
   "id": "9387fc47-4c31-47d1-bfd4-63b7772c882c",
   "metadata": {},
   "source": [
    "Strings"
   ]
  },
  {
   "cell_type": "code",
   "execution_count": 8,
   "id": "e71ab76e-e634-4cc8-8345-de6b665dc8ae",
   "metadata": {},
   "outputs": [
    {
     "data": {
      "text/plain": [
       "'hello'"
      ]
     },
     "execution_count": 8,
     "metadata": {},
     "output_type": "execute_result"
    }
   ],
   "source": [
    "\"hello\"\n"
   ]
  },
  {
   "cell_type": "code",
   "execution_count": 9,
   "id": "c6ef4b24-8645-40be-9635-545069b2f840",
   "metadata": {},
   "outputs": [
    {
     "data": {
      "text/plain": [
       "'hello'"
      ]
     },
     "execution_count": 9,
     "metadata": {},
     "output_type": "execute_result"
    }
   ],
   "source": [
    "'hello'"
   ]
  },
  {
   "cell_type": "code",
   "execution_count": 10,
   "id": "e567520b-d844-45a0-a1bd-a403f6817873",
   "metadata": {},
   "outputs": [
    {
     "data": {
      "text/plain": [
       "'helloworld'"
      ]
     },
     "execution_count": 10,
     "metadata": {},
     "output_type": "execute_result"
    }
   ],
   "source": [
    "\"hello\"+\"world\""
   ]
  },
  {
   "cell_type": "code",
   "execution_count": 11,
   "id": "4eebc95b-bcbb-4a4d-9f28-49d24f6a7cb4",
   "metadata": {},
   "outputs": [
    {
     "data": {
      "text/plain": [
       "'hellohellohellohellohello'"
      ]
     },
     "execution_count": 11,
     "metadata": {},
     "output_type": "execute_result"
    }
   ],
   "source": [
    "\"hello\"*5"
   ]
  },
  {
   "cell_type": "code",
   "execution_count": 12,
   "id": "fc24f34a-5843-4262-aa79-d13c2b04fe26",
   "metadata": {},
   "outputs": [
    {
     "data": {
      "text/plain": [
       "\"Let's play\""
      ]
     },
     "execution_count": 12,
     "metadata": {},
     "output_type": "execute_result"
    }
   ],
   "source": [
    "\"Let's play\""
   ]
  },
  {
   "cell_type": "markdown",
   "id": "bfac2637-5bb9-46c1-8e8e-cd690970d01d",
   "metadata": {},
   "source": [
    "Python supports multi-line strings"
   ]
  },
  {
   "cell_type": "code",
   "execution_count": 13,
   "id": "0c81a6fd-64d9-427c-952e-d853db94cee1",
   "metadata": {},
   "outputs": [],
   "source": [
    "message = \"\"\"\n",
    "Hello everyone,\n",
    "\n",
    "Welcome to the Practical Computing Course!\n",
    "\"\"\""
   ]
  },
  {
   "cell_type": "code",
   "execution_count": 14,
   "id": "6632301b-1aab-496a-a2e7-00292ce81800",
   "metadata": {},
   "outputs": [
    {
     "data": {
      "text/plain": [
       "'\\nHello everyone,\\n\\nWelcome to the Practical Computing Course!\\n'"
      ]
     },
     "execution_count": 14,
     "metadata": {},
     "output_type": "execute_result"
    }
   ],
   "source": [
    "message\n"
   ]
  },
  {
   "cell_type": "code",
   "execution_count": 15,
   "id": "2b224ab1-168c-430d-b123-d8f52dd4d6f5",
   "metadata": {},
   "outputs": [
    {
     "name": "stdout",
     "output_type": "stream",
     "text": [
      "\n",
      "Hello everyone,\n",
      "\n",
      "Welcome to the Practical Computing Course!\n",
      "\n"
     ]
    }
   ],
   "source": [
    "print(message)\n"
   ]
  },
  {
   "cell_type": "markdown",
   "id": "dfdd5b4e-7290-4ac3-8b13-40a5c3f3d660",
   "metadata": {},
   "source": [
    "String formatting\n"
   ]
  },
  {
   "cell_type": "markdown",
   "id": "0b7c9867-00b5-4c3a-b02e-ce3b585c2c1f",
   "metadata": {},
   "source": [
    "Python uses format strings for string formatting. They are like regular strings with a prefix f"
   ]
  },
  {
   "cell_type": "code",
   "execution_count": 20,
   "id": "7c6d1eaf-1f43-4225-bb9d-f5983242f131",
   "metadata": {},
   "outputs": [
    {
     "data": {
      "text/plain": [
       "'Hello Python'"
      ]
     },
     "execution_count": 20,
     "metadata": {},
     "output_type": "execute_result"
    }
   ],
   "source": [
    "name = \"Python\"\n",
    "message = f\"Hello {name}\"\n",
    "message"
   ]
  },
  {
   "cell_type": "code",
   "execution_count": 21,
   "id": "0c65bf42-bd08-42c3-be5a-86a4c4750f70",
   "metadata": {},
   "outputs": [
    {
     "name": "stdout",
     "output_type": "stream",
     "text": [
      "5 x 1 = 5\n",
      "5 x 2 = 10\n",
      "5 x 3 = 15\n",
      "5 x 4 = 20\n",
      "5 x 5 = 25\n",
      "5 x 6 = 30\n",
      "5 x 7 = 35\n",
      "5 x 8 = 40\n",
      "5 x 9 = 45\n",
      "5 x 10 = 50\n"
     ]
    }
   ],
   "source": [
    "n = 5\n",
    "for i in range(1,11):\n",
    "    print(f\"{n} x {i} = {n*i}\")"
   ]
  },
  {
   "cell_type": "code",
   "execution_count": 23,
   "id": "986b140f-ae4a-4e0c-bcea-2ddaef4999ad",
   "metadata": {},
   "outputs": [
    {
     "name": "stdout",
     "output_type": "stream",
     "text": [
      "12 x  1 =  12\n",
      "12 x  2 =  24\n",
      "12 x  3 =  36\n",
      "12 x  4 =  48\n",
      "12 x  5 =  60\n",
      "12 x  6 =  72\n",
      "12 x  7 =  84\n",
      "12 x  8 =  96\n",
      "12 x  9 = 108\n",
      "12 x 10 = 120\n"
     ]
    }
   ],
   "source": [
    "n = 12\n",
    "for i in range(1,11):\n",
    "    print(f\"{n:2d} x {i:2d} = {n*i:3d}\")"
   ]
  },
  {
   "cell_type": "markdown",
   "id": "62119967-797e-440b-af50-09766c52a491",
   "metadata": {},
   "source": [
    "Python supports unicode text as well"
   ]
  },
  {
   "cell_type": "code",
   "execution_count": 26,
   "id": "b4d8989d-d5b1-459d-8ec0-70597deb8e3f",
   "metadata": {},
   "outputs": [
    {
     "name": "stdout",
     "output_type": "stream",
     "text": [
      "అఆఇఈ\n"
     ]
    }
   ],
   "source": [
    "print(\"\\u0c05\\u0c06\\u0c07\\u0c08\") ##Telugu"
   ]
  },
  {
   "cell_type": "code",
   "execution_count": 27,
   "id": "0a229e75-4e7c-485c-b5f7-d6fc4122ab33",
   "metadata": {},
   "outputs": [
    {
     "name": "stdout",
     "output_type": "stream",
     "text": [
      "ಅಆಇಈ\n"
     ]
    }
   ],
   "source": [
    "print(\"\\u0c85\\u0c86\\u0c87\\u0c88\") ##Kannada"
   ]
  },
  {
   "cell_type": "markdown",
   "id": "caf8b139-d197-4e96-a0c7-33c75eaa468d",
   "metadata": {},
   "source": [
    "Lists\n"
   ]
  },
  {
   "cell_type": "code",
   "execution_count": 28,
   "id": "97672f00-9c2f-441d-b31c-164e3611b15f",
   "metadata": {},
   "outputs": [
    {
     "data": {
      "text/plain": [
       "[1, 2, 3, 4]"
      ]
     },
     "execution_count": 28,
     "metadata": {},
     "output_type": "execute_result"
    }
   ],
   "source": [
    "[1,2,3,4]"
   ]
  },
  {
   "cell_type": "code",
   "execution_count": 34,
   "id": "2c7f5e6e-c832-4243-9881-71146efac2df",
   "metadata": {},
   "outputs": [],
   "source": [
    "x=[1,2,3,4]"
   ]
  },
  {
   "cell_type": "code",
   "execution_count": 35,
   "id": "a19b51f5-65eb-455b-b2e9-861a0b1aa0fb",
   "metadata": {},
   "outputs": [
    {
     "data": {
      "text/plain": [
       "[1, 2, 3, 4]"
      ]
     },
     "execution_count": 35,
     "metadata": {},
     "output_type": "execute_result"
    }
   ],
   "source": [
    "x"
   ]
  },
  {
   "cell_type": "code",
   "execution_count": 36,
   "id": "b10c07a3-fa02-41d1-9a63-8e0b82715e0c",
   "metadata": {},
   "outputs": [
    {
     "data": {
      "text/plain": [
       "4"
      ]
     },
     "execution_count": 36,
     "metadata": {},
     "output_type": "execute_result"
    }
   ],
   "source": [
    "len(x)\n"
   ]
  },
  {
   "cell_type": "code",
   "execution_count": 37,
   "id": "27ba07f5-6fb6-45a2-91cf-11a0af1c64a9",
   "metadata": {},
   "outputs": [
    {
     "data": {
      "text/plain": [
       "5"
      ]
     },
     "execution_count": 37,
     "metadata": {},
     "output_type": "execute_result"
    }
   ],
   "source": [
    "len(\"hello\")"
   ]
  },
  {
   "cell_type": "code",
   "execution_count": 38,
   "id": "06275157-7cd8-415e-8abc-a12466b658b8",
   "metadata": {},
   "outputs": [],
   "source": [
    "names = [\"Alice\",\"Rob\",\"Bob\",\"Sob\"]\n"
   ]
  },
  {
   "cell_type": "code",
   "execution_count": 39,
   "id": "a2272f50-7ea6-4c78-9743-f28c455d8e63",
   "metadata": {},
   "outputs": [
    {
     "data": {
      "text/plain": [
       "['Alice', 'Rob', 'Bob', 'Sob']"
      ]
     },
     "execution_count": 39,
     "metadata": {},
     "output_type": "execute_result"
    }
   ],
   "source": [
    "names"
   ]
  },
  {
   "cell_type": "code",
   "execution_count": 40,
   "id": "a3c23348-740d-4510-befa-fd2f6e2dce38",
   "metadata": {},
   "outputs": [
    {
     "data": {
      "text/plain": [
       "4"
      ]
     },
     "execution_count": 40,
     "metadata": {},
     "output_type": "execute_result"
    }
   ],
   "source": [
    "len(names)"
   ]
  },
  {
   "cell_type": "code",
   "execution_count": 41,
   "id": "72bfb8e0-a096-4258-a7e4-0cf8867880c0",
   "metadata": {},
   "outputs": [
    {
     "data": {
      "text/plain": [
       "'Alice'"
      ]
     },
     "execution_count": 41,
     "metadata": {},
     "output_type": "execute_result"
    }
   ],
   "source": [
    "names[0]"
   ]
  },
  {
   "cell_type": "code",
   "execution_count": 42,
   "id": "2e472700-5cca-4b9b-873c-d063725697b8",
   "metadata": {},
   "outputs": [
    {
     "data": {
      "text/plain": [
       "'Rob'"
      ]
     },
     "execution_count": 42,
     "metadata": {},
     "output_type": "execute_result"
    }
   ],
   "source": [
    "names[1]"
   ]
  },
  {
   "cell_type": "markdown",
   "id": "004241d7-2444-4ae0-9115-e0cb13b72c2e",
   "metadata": {},
   "source": [
    "we can use a for loop to iterate over the values of a list "
   ]
  },
  {
   "cell_type": "code",
   "execution_count": 43,
   "id": "0a6fdf49-1267-4935-858a-b9cc2b5fb3f6",
   "metadata": {},
   "outputs": [
    {
     "name": "stdout",
     "output_type": "stream",
     "text": [
      "hello Alice\n",
      "hello Rob\n",
      "hello Bob\n",
      "hello Sob\n"
     ]
    }
   ],
   "source": [
    "for name in names:\n",
    "    print(\"hello\",name)"
   ]
  },
  {
   "cell_type": "markdown",
   "id": "4561e736-0a33-4c7d-9262-b78ec259af82",
   "metadata": {},
   "source": [
    "Dictionaries"
   ]
  },
  {
   "cell_type": "code",
   "execution_count": 47,
   "id": "a14b65f4-1f50-4742-b01f-ca57644935e8",
   "metadata": {},
   "outputs": [],
   "source": [
    "phone_numbers = {\"Alice\":1234, \"Bob\":2345,\"Rob\": 5678}"
   ]
  },
  {
   "cell_type": "code",
   "execution_count": 48,
   "id": "c6348ea0-012d-4686-a04c-6b1353a63298",
   "metadata": {},
   "outputs": [
    {
     "data": {
      "text/plain": [
       "{'Alice': 1234, 'Bob': 2345, 'Rob': 5678}"
      ]
     },
     "execution_count": 48,
     "metadata": {},
     "output_type": "execute_result"
    }
   ],
   "source": [
    "phone_numbers"
   ]
  },
  {
   "cell_type": "code",
   "execution_count": 51,
   "id": "1d669d5a-435d-4d78-bb90-5737a32c9abc",
   "metadata": {},
   "outputs": [
    {
     "data": {
      "text/plain": [
       "1234"
      ]
     },
     "execution_count": 51,
     "metadata": {},
     "output_type": "execute_result"
    }
   ],
   "source": [
    "phone_numbers[\"Alice\"]"
   ]
  },
  {
   "cell_type": "code",
   "execution_count": 52,
   "id": "5d6c2153-1319-4386-b825-29600f258964",
   "metadata": {},
   "outputs": [],
   "source": [
    "phone_numbers[\"Dave\"] = 1023"
   ]
  },
  {
   "cell_type": "code",
   "execution_count": 53,
   "id": "9085e1a2-e6cc-4b7f-9ca0-4ea18c8eab5e",
   "metadata": {},
   "outputs": [
    {
     "data": {
      "text/plain": [
       "{'Alice': 1234, 'Bob': 2345, 'Rob': 5678, 'Dave': 1023}"
      ]
     },
     "execution_count": 53,
     "metadata": {},
     "output_type": "execute_result"
    }
   ],
   "source": [
    "phone_numbers"
   ]
  },
  {
   "cell_type": "code",
   "execution_count": 54,
   "id": "5b2cf21f-99a4-4089-8627-f6f2111ef16f",
   "metadata": {},
   "outputs": [
    {
     "data": {
      "text/plain": [
       "True"
      ]
     },
     "execution_count": 54,
     "metadata": {},
     "output_type": "execute_result"
    }
   ],
   "source": [
    "\"Alice\" in phone_numbers\n"
   ]
  },
  {
   "cell_type": "code",
   "execution_count": 55,
   "id": "2cddefbe-2938-40ba-9eb2-52775550f922",
   "metadata": {},
   "outputs": [
    {
     "data": {
      "text/plain": [
       "True"
      ]
     },
     "execution_count": 55,
     "metadata": {},
     "output_type": "execute_result"
    }
   ],
   "source": [
    "\"Mary\" not in phone_numbers"
   ]
  },
  {
   "cell_type": "markdown",
   "id": "4b50842b-07c3-468d-bc0e-5bf03a571895",
   "metadata": {},
   "source": [
    "The list and dictonaries could be nested "
   ]
  },
  {
   "cell_type": "code",
   "execution_count": 59,
   "id": "98ca81e2-01f4-4e0d-9301-8fabdd86e469",
   "metadata": {},
   "outputs": [],
   "source": [
    "records = [\n",
    "    {'name':'Alice', 'phone':1234}\n",
    "]"
   ]
  },
  {
   "cell_type": "code",
   "execution_count": 60,
   "id": "757e00c6-6195-4700-b11f-05331714910e",
   "metadata": {},
   "outputs": [
    {
     "data": {
      "text/plain": [
       "[{'name': 'Alice', 'phone': 1234}]"
      ]
     },
     "execution_count": 60,
     "metadata": {},
     "output_type": "execute_result"
    }
   ],
   "source": [
    "records\n"
   ]
  },
  {
   "cell_type": "markdown",
   "id": "f7b713ad-2ebd-487a-b79a-4793abddf40d",
   "metadata": {},
   "source": [
    "Functions,Methods and Modules\n"
   ]
  },
  {
   "cell_type": "markdown",
   "id": "524d2af7-ebdb-4378-a964-b8907807ac9f",
   "metadata": {},
   "source": [
    "Python has many built in functions\n"
   ]
  },
  {
   "cell_type": "code",
   "execution_count": 61,
   "id": "b7114025-8914-4aab-bc80-4736eeda8590",
   "metadata": {},
   "outputs": [
    {
     "name": "stdout",
     "output_type": "stream",
     "text": [
      "hello\n"
     ]
    }
   ],
   "source": [
    "print(\"hello\")"
   ]
  },
  {
   "cell_type": "code",
   "execution_count": 63,
   "id": "e4585aa7-6b93-42c2-8993-4a874b7184dc",
   "metadata": {},
   "outputs": [
    {
     "data": {
      "text/plain": [
       "15"
      ]
     },
     "execution_count": 63,
     "metadata": {},
     "output_type": "execute_result"
    }
   ],
   "source": [
    "sum([1,2,3,4,5])"
   ]
  },
  {
   "cell_type": "markdown",
   "id": "9c11ed14-668f-4caf-85b6-09687360414c",
   "metadata": {},
   "source": [
    "Python does not support operations on incompatible datatypes"
   ]
  },
  {
   "cell_type": "code",
   "execution_count": 64,
   "id": "3285c4b0-2530-483f-a48c-537408084f8b",
   "metadata": {},
   "outputs": [
    {
     "ename": "TypeError",
     "evalue": "unsupported operand type(s) for +: 'int' and 'str'",
     "output_type": "error",
     "traceback": [
      "\u001b[0;31m---------------------------------------------------------------------------\u001b[0m",
      "\u001b[0;31mTypeError\u001b[0m                                 Traceback (most recent call last)",
      "Cell \u001b[0;32mIn[64], line 1\u001b[0m\n\u001b[0;32m----> 1\u001b[0m \u001b[38;5;241;43m1\u001b[39;49m\u001b[43m \u001b[49m\u001b[38;5;241;43m+\u001b[39;49m\u001b[43m \u001b[49m\u001b[38;5;124;43m\"\u001b[39;49m\u001b[38;5;124;43m2\u001b[39;49m\u001b[38;5;124;43m\"\u001b[39;49m\n",
      "\u001b[0;31mTypeError\u001b[0m: unsupported operand type(s) for +: 'int' and 'str'"
     ]
    }
   ],
   "source": [
    "1 + \"2\""
   ]
  },
  {
   "cell_type": "code",
   "execution_count": 65,
   "id": "55d8622f-5ef6-4c1b-87e1-655ae5c61cd5",
   "metadata": {},
   "outputs": [
    {
     "data": {
      "text/plain": [
       "'12'"
      ]
     },
     "execution_count": 65,
     "metadata": {},
     "output_type": "execute_result"
    }
   ],
   "source": [
    "str(1) + \"2\""
   ]
  },
  {
   "cell_type": "code",
   "execution_count": 66,
   "id": "35c5ad08-1127-4741-9cf2-c1ab91c14e77",
   "metadata": {},
   "outputs": [
    {
     "data": {
      "text/plain": [
       "3"
      ]
     },
     "execution_count": 66,
     "metadata": {},
     "output_type": "execute_result"
    }
   ],
   "source": [
    "1 + int(\"2\")"
   ]
  },
  {
   "cell_type": "markdown",
   "id": "2bdb9e71-43c6-4735-90db-571f46aaa907",
   "metadata": {},
   "source": [
    "Example: Counting the number of digits in a number "
   ]
  },
  {
   "cell_type": "code",
   "execution_count": 68,
   "id": "a769b55b-eb28-4ec6-9d85-0fd80ca40deb",
   "metadata": {},
   "outputs": [
    {
     "data": {
      "text/plain": [
       "31"
      ]
     },
     "execution_count": 68,
     "metadata": {},
     "output_type": "execute_result"
    }
   ],
   "source": [
    "len (str(2**100))"
   ]
  },
  {
   "cell_type": "markdown",
   "id": "6fa8f62a-1ac0-4fa9-8b95-7e18d40f05ce",
   "metadata": {},
   "source": [
    "Writing our own functions"
   ]
  },
  {
   "cell_type": "code",
   "execution_count": 69,
   "id": "855efe99-4536-4c36-90f2-3402993ec3a9",
   "metadata": {},
   "outputs": [],
   "source": [
    "def square (x):\n",
    "    return x*x\n",
    "    "
   ]
  },
  {
   "cell_type": "code",
   "execution_count": 70,
   "id": "51162413-0057-4084-bbb7-407d7f6972ec",
   "metadata": {},
   "outputs": [
    {
     "data": {
      "text/plain": [
       "16"
      ]
     },
     "execution_count": 70,
     "metadata": {},
     "output_type": "execute_result"
    }
   ],
   "source": [
    "square (4)"
   ]
  },
  {
   "cell_type": "code",
   "execution_count": 73,
   "id": "94727996-5be0-4cb9-a17a-fa022eef8644",
   "metadata": {},
   "outputs": [],
   "source": [
    "def square (x):\n",
    "    y = x*x\n",
    "    return y"
   ]
  },
  {
   "cell_type": "code",
   "execution_count": 74,
   "id": "8f877e98-20e5-4084-bc4a-b22a6346a6c8",
   "metadata": {},
   "outputs": [
    {
     "data": {
      "text/plain": [
       "16"
      ]
     },
     "execution_count": 74,
     "metadata": {},
     "output_type": "execute_result"
    }
   ],
   "source": [
    "square (4)"
   ]
  },
  {
   "cell_type": "code",
   "execution_count": 75,
   "id": "265e1103-f521-41c2-8fc8-716ca21c962e",
   "metadata": {},
   "outputs": [],
   "source": [
    "def add (x,y):\n",
    "    z= x+y\n",
    "    return z"
   ]
  },
  {
   "cell_type": "code",
   "execution_count": 76,
   "id": "be600f7d-ff54-4595-a952-b2b211fd1e1c",
   "metadata": {},
   "outputs": [
    {
     "data": {
      "text/plain": [
       "7"
      ]
     },
     "execution_count": 76,
     "metadata": {},
     "output_type": "execute_result"
    }
   ],
   "source": [
    "add (3,4)"
   ]
  },
  {
   "cell_type": "code",
   "execution_count": 77,
   "id": "108f7f7b-6005-48a7-8c1a-41e32db6e74d",
   "metadata": {},
   "outputs": [
    {
     "name": "stdout",
     "output_type": "stream",
     "text": [
      "16\n",
      "5\n"
     ]
    }
   ],
   "source": [
    "y = 5\n",
    "\n",
    "def square (x):\n",
    "    #y is a local variable \n",
    "    y = x * x\n",
    "    return y\n",
    "\n",
    "print(square(4))\n",
    "print(y)"
   ]
  },
  {
   "cell_type": "code",
   "execution_count": 78,
   "id": "c9aedbeb-c918-41ef-bba9-ea110657e9ac",
   "metadata": {},
   "outputs": [
    {
     "name": "stdout",
     "output_type": "stream",
     "text": [
      "25 5\n"
     ]
    }
   ],
   "source": [
    "print(square(y),y)"
   ]
  },
  {
   "cell_type": "code",
   "execution_count": 79,
   "id": "b69cee08-c626-4e8d-ad91-e5d0d680ddb6",
   "metadata": {},
   "outputs": [
    {
     "name": "stdout",
     "output_type": "stream",
     "text": [
      "15\n",
      "25\n"
     ]
    }
   ],
   "source": [
    "y = 5\n",
    "\n",
    "def f(x):\n",
    "    z = x + y\n",
    "    return z\n",
    "\n",
    "print(f(10));\n",
    "print(f(20));\n"
   ]
  },
  {
   "cell_type": "code",
   "execution_count": 80,
   "id": "1fa985a5-70ec-4c08-9d41-1541e44fcc9d",
   "metadata": {},
   "outputs": [
    {
     "name": "stdout",
     "output_type": "stream",
     "text": [
      "11\n",
      "21\n"
     ]
    }
   ],
   "source": [
    "y = 5\n",
    "\n",
    "def f(y):\n",
    "    z = 1 + y\n",
    "    return z\n",
    "\n",
    "print(f(10));\n",
    "print(f(20));\n"
   ]
  },
  {
   "cell_type": "markdown",
   "id": "4ec442d7-e482-4fb1-a3ad-1cc5a86cc1d7",
   "metadata": {},
   "source": [
    "** problem ** write a function 'count_digits' that takes a number as argument and returns the number of digits it has"
   ]
  },
  {
   "cell_type": "code",
   "execution_count": 82,
   "id": "e0103072-03aa-4d89-ab36-700d6e985e24",
   "metadata": {},
   "outputs": [
    {
     "name": "stdout",
     "output_type": "stream",
     "text": [
      "5\n"
     ]
    }
   ],
   "source": [
    "def count_digits(x):\n",
    "    y = len(str(x))\n",
    "    return y\n",
    "print(y)\n"
   ]
  },
  {
   "cell_type": "code",
   "execution_count": 83,
   "id": "3213faef-c757-4002-8468-1429daebb854",
   "metadata": {},
   "outputs": [
    {
     "data": {
      "text/plain": [
       "5"
      ]
     },
     "execution_count": 83,
     "metadata": {},
     "output_type": "execute_result"
    }
   ],
   "source": [
    "count_digits(12345)"
   ]
  },
  {
   "cell_type": "code",
   "execution_count": 85,
   "id": "2596d1a4-d704-4bb4-b257-26aeb674e482",
   "metadata": {},
   "outputs": [
    {
     "data": {
      "text/plain": [
       "302"
      ]
     },
     "execution_count": 85,
     "metadata": {},
     "output_type": "execute_result"
    }
   ],
   "source": [
    "count_digits(2 ** 1000)"
   ]
  },
  {
   "cell_type": "code",
   "execution_count": 96,
   "id": "289fc500-bb30-4c25-ba2d-cb9e4b05959c",
   "metadata": {},
   "outputs": [
    {
     "name": "stdout",
     "output_type": "stream",
     "text": [
      "2.5\n"
     ]
    }
   ],
   "source": [
    "x= [1,2,3,4]\n",
    "\n",
    "def mean(x):\n",
    "    y = sum(x)/len(x)\n",
    "    return y\n",
    "    \n",
    "\n",
    "print(mean(x))\n"
   ]
  },
  {
   "cell_type": "code",
   "execution_count": 97,
   "id": "a5a13a0f-96dd-4f2f-802a-f76f8554eafa",
   "metadata": {},
   "outputs": [
    {
     "data": {
      "text/plain": [
       "3.0"
      ]
     },
     "execution_count": 97,
     "metadata": {},
     "output_type": "execute_result"
    }
   ],
   "source": [
    "mean([1,2,3,4,5])"
   ]
  },
  {
   "cell_type": "code",
   "execution_count": 104,
   "id": "424440de-69d1-4050-9e38-26557620d305",
   "metadata": {},
   "outputs": [],
   "source": [
    "x = mean([1,3.2,5.555,7,8.9,9])"
   ]
  },
  {
   "cell_type": "code",
   "execution_count": 105,
   "id": "05fd0ee1-c260-4f93-95ff-129278f7bc56",
   "metadata": {},
   "outputs": [
    {
     "data": {
      "text/plain": [
       "0.30000000000000004"
      ]
     },
     "execution_count": 105,
     "metadata": {},
     "output_type": "execute_result"
    }
   ],
   "source": [
    "0.1+0.2\n",
    "\n"
   ]
  },
  {
   "cell_type": "code",
   "execution_count": 106,
   "id": "b5e15af9-174a-456b-ab34-ea83862f8aa9",
   "metadata": {},
   "outputs": [
    {
     "name": "stdout",
     "output_type": "stream",
     "text": [
      "mean is 5.776\n"
     ]
    }
   ],
   "source": [
    "print(f\"mean is {x:0.3f}\")"
   ]
  },
  {
   "cell_type": "markdown",
   "id": "9ce9df5a-0305-4b15-8436-85950adc439a",
   "metadata": {},
   "source": [
    "Methods"
   ]
  },
  {
   "cell_type": "code",
   "execution_count": 107,
   "id": "341ca84c-8e20-459c-9c10-9e50805ed2c1",
   "metadata": {},
   "outputs": [
    {
     "data": {
      "text/plain": [
       "5"
      ]
     },
     "execution_count": 107,
     "metadata": {},
     "output_type": "execute_result"
    }
   ],
   "source": [
    "x = \"hello\"\n",
    "len(x)"
   ]
  },
  {
   "cell_type": "code",
   "execution_count": 108,
   "id": "39e6bf2a-2253-48a0-9b60-ef15e57fc33b",
   "metadata": {},
   "outputs": [
    {
     "data": {
      "text/plain": [
       "'GOOD  BYE'"
      ]
     },
     "execution_count": 108,
     "metadata": {},
     "output_type": "execute_result"
    }
   ],
   "source": [
    "y = 'good  bye'\n",
    "y.upper()"
   ]
  },
  {
   "cell_type": "markdown",
   "id": "78018d3c-8777-4aa5-9fea-b19deccd7b60",
   "metadata": {},
   "source": [
    "Upper is a method that is available on string objects"
   ]
  },
  {
   "cell_type": "code",
   "execution_count": 110,
   "id": "2d52d42f-a2eb-49c6-9745-f8101871a093",
   "metadata": {},
   "outputs": [
    {
     "data": {
      "text/plain": [
       "2"
      ]
     },
     "execution_count": 110,
     "metadata": {},
     "output_type": "execute_result"
    }
   ],
   "source": [
    "\"mathematics\".count(\"mat\")"
   ]
  },
  {
   "cell_type": "code",
   "execution_count": 111,
   "id": "3f25089a-ff35-421e-bdee-214405f90f93",
   "metadata": {},
   "outputs": [
    {
     "data": {
      "text/plain": [
       "'ratheratics'"
      ]
     },
     "execution_count": 111,
     "metadata": {},
     "output_type": "execute_result"
    }
   ],
   "source": [
    "\"mathematics\".replace(\"mat\",\"rat\")"
   ]
  },
  {
   "cell_type": "code",
   "execution_count": 116,
   "id": "83b64cd5-323b-42d2-9a6d-bc65c0ddc7bb",
   "metadata": {},
   "outputs": [
    {
     "name": "stdout",
     "output_type": "stream",
     "text": [
      "Overwriting five.txt\n"
     ]
    }
   ],
   "source": [
    "%%file five.txt\n",
    "1 one \n",
    "2 two\n",
    "3 thre\n",
    "4 four\n",
    "5 five"
   ]
  },
  {
   "cell_type": "code",
   "execution_count": 117,
   "id": "b07f949b-5a55-4908-a93d-2334af75b637",
   "metadata": {},
   "outputs": [
    {
     "data": {
      "text/plain": [
       "'1 one'"
      ]
     },
     "execution_count": 117,
     "metadata": {},
     "output_type": "execute_result"
    }
   ],
   "source": [
    "open(\"five.txt\").readline().strip()"
   ]
  },
  {
   "cell_type": "code",
   "execution_count": 118,
   "id": "bc03898b-c0ef-4fa2-bfc6-74c2fd38bbff",
   "metadata": {},
   "outputs": [
    {
     "data": {
      "text/plain": [
       "['1', 'one']"
      ]
     },
     "execution_count": 118,
     "metadata": {},
     "output_type": "execute_result"
    }
   ],
   "source": [
    "open(\"five.txt\").readline().strip().split()"
   ]
  },
  {
   "cell_type": "markdown",
   "id": "9bb2278b-55ab-4586-b6d5-7b3ee4b89618",
   "metadata": {},
   "source": [
    "Looking for a variable hello\n",
    "\n"
   ]
  },
  {
   "cell_type": "code",
   "execution_count": 120,
   "id": "996f2b60-866d-431e-ba5a-9a7560ab6007",
   "metadata": {},
   "outputs": [
    {
     "ename": "NameError",
     "evalue": "name 'hello' is not defined",
     "output_type": "error",
     "traceback": [
      "\u001b[0;31m---------------------------------------------------------------------------\u001b[0m",
      "\u001b[0;31mNameError\u001b[0m                                 Traceback (most recent call last)",
      "Cell \u001b[0;32mIn[120], line 1\u001b[0m\n\u001b[0;32m----> 1\u001b[0m \u001b[38;5;28mprint\u001b[39m(\u001b[43mhello\u001b[49m)\n",
      "\u001b[0;31mNameError\u001b[0m: name 'hello' is not defined"
     ]
    }
   ],
   "source": [
    "print(hello)"
   ]
  },
  {
   "cell_type": "markdown",
   "id": "5b9fd01e-2561-4ebb-8d75-2cb893232762",
   "metadata": {},
   "source": [
    "Splitting and joining strings"
   ]
  },
  {
   "cell_type": "code",
   "execution_count": 122,
   "id": "33fd42f0-7496-4f84-87f2-7c898d7f6dad",
   "metadata": {},
   "outputs": [],
   "source": [
    "sentence = \"Anything that can go wrong, will go wrong.\""
   ]
  },
  {
   "cell_type": "code",
   "execution_count": 123,
   "id": "b533dc7e-72a3-4a52-b3e7-9280361b8a82",
   "metadata": {},
   "outputs": [
    {
     "data": {
      "text/plain": [
       "['Anything', 'that', 'can', 'go', 'wrong,', 'will', 'go', 'wrong.']"
      ]
     },
     "execution_count": 123,
     "metadata": {},
     "output_type": "execute_result"
    }
   ],
   "source": [
    "sentence.split()"
   ]
  },
  {
   "cell_type": "code",
   "execution_count": 125,
   "id": "f6284f88-0518-46c6-bbeb-6be4bbeded7c",
   "metadata": {},
   "outputs": [
    {
     "data": {
      "text/plain": [
       "['Anything that can go wrong', ' will go wrong.']"
      ]
     },
     "execution_count": 125,
     "metadata": {},
     "output_type": "execute_result"
    }
   ],
   "source": [
    "sentence.split(\",\")"
   ]
  },
  {
   "cell_type": "code",
   "execution_count": 126,
   "id": "a6af436f-a1e6-4ab9-8fb0-7bec28ff9a50",
   "metadata": {},
   "outputs": [
    {
     "data": {
      "text/plain": [
       "['Anything that can go wrong, will go wrong', '']"
      ]
     },
     "execution_count": 126,
     "metadata": {},
     "output_type": "execute_result"
    }
   ],
   "source": [
    "sentence.split(\".\")"
   ]
  },
  {
   "cell_type": "markdown",
   "id": "a2401e15-ad6c-482d-9581-33fcd9e57271",
   "metadata": {},
   "source": [
    "Learn how to join back "
   ]
  },
  {
   "cell_type": "code",
   "execution_count": 128,
   "id": "c509e05b-7569-4f7b-9a0a-957c290336b2",
   "metadata": {},
   "outputs": [
    {
     "data": {
      "text/plain": [
       "'a-b-c'"
      ]
     },
     "execution_count": 128,
     "metadata": {},
     "output_type": "execute_result"
    }
   ],
   "source": [
    "sep = \"-\"\n",
    "sep.join([\"a\",\"b\",\"c\"])\n"
   ]
  },
  {
   "cell_type": "code",
   "execution_count": 129,
   "id": "b30ba14d-ac7f-4c20-8580-90b90575be54",
   "metadata": {},
   "outputs": [
    {
     "data": {
      "text/plain": [
       "'Anything that can go wrong, will go wrong.'"
      ]
     },
     "execution_count": 129,
     "metadata": {},
     "output_type": "execute_result"
    }
   ],
   "source": [
    "sentence\n"
   ]
  },
  {
   "cell_type": "code",
   "execution_count": 130,
   "id": "4c263d83-9d5d-49ac-bea3-3efc661ebbb8",
   "metadata": {},
   "outputs": [
    {
     "data": {
      "text/plain": [
       "'Anything-that-can-go-wrong,-will-go-wrong.'"
      ]
     },
     "execution_count": 130,
     "metadata": {},
     "output_type": "execute_result"
    }
   ],
   "source": [
    "\"-\".join(sentence.split())"
   ]
  },
  {
   "cell_type": "code",
   "execution_count": 132,
   "id": "80d585d2-20d7-468c-8cbd-6765258974fa",
   "metadata": {},
   "outputs": [
    {
     "data": {
      "text/plain": [
       "'Anything that can go wrong- will go wrong.'"
      ]
     },
     "execution_count": 132,
     "metadata": {},
     "output_type": "execute_result"
    }
   ],
   "source": [
    "\"-\".join(sentence.split(\",\"))"
   ]
  },
  {
   "cell_type": "code",
   "execution_count": 133,
   "id": "5f9dbdf2-86ab-4d64-b08b-2bf8daf6b759",
   "metadata": {},
   "outputs": [
    {
     "data": {
      "text/plain": [
       "'Anything that can - wrong, will - wrong.'"
      ]
     },
     "execution_count": 133,
     "metadata": {},
     "output_type": "execute_result"
    }
   ],
   "source": [
    "\"-\".join(sentence.split(\"go\"))"
   ]
  },
  {
   "cell_type": "code",
   "execution_count": 149,
   "id": "01c59252-e28f-457d-94ec-74055a9afc52",
   "metadata": {},
   "outputs": [
    {
     "data": {
      "text/plain": [
       "3"
      ]
     },
     "execution_count": 149,
     "metadata": {},
     "output_type": "execute_result"
    }
   ],
   "source": [
    "def count_words(sentence):\n",
    "    words = sentence.split()\n",
    "    num_of_words = len(words)\n",
    "    return num_of_words\n",
    "    \n",
    "count_words(\"one two three\")"
   ]
  },
  {
   "cell_type": "code",
   "execution_count": 150,
   "id": "ab697942-c335-4a1d-a0ec-98b4d045a210",
   "metadata": {},
   "outputs": [
    {
     "data": {
      "text/plain": [
       "4"
      ]
     },
     "execution_count": 150,
     "metadata": {},
     "output_type": "execute_result"
    }
   ],
   "source": [
    "count_words(\"the joy of programming\")\n"
   ]
  },
  {
   "cell_type": "code",
   "execution_count": 151,
   "id": "8e3d34cc-fecb-44c7-a244-1f9c169b7baa",
   "metadata": {},
   "outputs": [
    {
     "data": {
      "text/plain": [
       "6"
      ]
     },
     "execution_count": 151,
     "metadata": {},
     "output_type": "execute_result"
    }
   ],
   "source": [
    "count_words(\"I don't like this at all\")"
   ]
  },
  {
   "cell_type": "code",
   "execution_count": 152,
   "id": "ee94c422-192c-484e-ad65-ba82dc83ddf3",
   "metadata": {},
   "outputs": [
    {
     "data": {
      "text/plain": [
       "9"
      ]
     },
     "execution_count": 152,
     "metadata": {},
     "output_type": "execute_result"
    }
   ],
   "source": [
    "count_words(\"I am loving this more and more and more\")"
   ]
  },
  {
   "cell_type": "markdown",
   "id": "edf21401-cb54-43bb-8dd7-7f50fe55b9e7",
   "metadata": {},
   "source": [
    "###  Reading files"
   ]
  },
  {
   "cell_type": "code",
   "execution_count": 154,
   "id": "28d5008f-43f2-475d-8df1-66ead6f4cb16",
   "metadata": {},
   "outputs": [
    {
     "name": "stdout",
     "output_type": "stream",
     "text": [
      "Writing three.txt\n"
     ]
    }
   ],
   "source": [
    "%%file three.txt\n",
    "one \n",
    "two \n",
    "three"
   ]
  },
  {
   "cell_type": "markdown",
   "id": "b263eb0f-a85e-4acf-84c8-dbe2daa3c488",
   "metadata": {},
   "source": [
    "# Read as a single string"
   ]
  },
  {
   "cell_type": "code",
   "execution_count": 156,
   "id": "954525a6-a451-4337-8db3-a29fef373edc",
   "metadata": {},
   "outputs": [
    {
     "data": {
      "text/plain": [
       "'one \\ntwo \\nthree\\n'"
      ]
     },
     "execution_count": 156,
     "metadata": {},
     "output_type": "execute_result"
    }
   ],
   "source": [
    "open(\"three.txt\").read()"
   ]
  },
  {
   "cell_type": "code",
   "execution_count": null,
   "id": "60fe6056-21fb-48fa-89fd-5864407486ed",
   "metadata": {},
   "outputs": [],
   "source": [
    "# Read all the lines\n"
   ]
  },
  {
   "cell_type": "code",
   "execution_count": 158,
   "id": "c8eea022-d67e-49de-be5f-2eb5d13dc759",
   "metadata": {},
   "outputs": [
    {
     "data": {
      "text/plain": [
       "['one \\n', 'two \\n', 'three\\n']"
      ]
     },
     "execution_count": 158,
     "metadata": {},
     "output_type": "execute_result"
    }
   ],
   "source": [
    "open(\"three.txt\").readlines()"
   ]
  },
  {
   "cell_type": "code",
   "execution_count": 161,
   "id": "36043b74-fc3d-4430-8cce-c66a26a4003c",
   "metadata": {},
   "outputs": [],
   "source": [
    "contents = open(\"three.txt\").read()"
   ]
  },
  {
   "cell_type": "code",
   "execution_count": 162,
   "id": "6b833990-90f2-4375-a772-1768b6804ce2",
   "metadata": {},
   "outputs": [
    {
     "data": {
      "text/plain": [
       "'one \\ntwo \\nthree\\n'"
      ]
     },
     "execution_count": 162,
     "metadata": {},
     "output_type": "execute_result"
    }
   ],
   "source": [
    "contents"
   ]
  },
  {
   "cell_type": "code",
   "execution_count": 163,
   "id": "d8142ccf-1bdc-448e-9852-c560e5f79636",
   "metadata": {},
   "outputs": [
    {
     "name": "stdout",
     "output_type": "stream",
     "text": [
      "one \n",
      "two \n",
      "three\n",
      "\n"
     ]
    }
   ],
   "source": [
    "print(contents)"
   ]
  },
  {
   "cell_type": "markdown",
   "id": "816bba98-cc2e-4b0d-ae47-114464f398a4",
   "metadata": {},
   "source": [
    "Problem: Write a function count_lines that takes a filename as an argument and returns the number of lines"
   ]
  },
  {
   "cell_type": "code",
   "execution_count": 167,
   "id": "0b949835-43af-4251-a3e5-4c3d2fb35caa",
   "metadata": {},
   "outputs": [],
   "source": [
    "\n",
    "\n",
    "def count_lines(filename):\n",
    "     lines = open(filename).readlines()\n",
    "     return len(lines)"
   ]
  },
  {
   "cell_type": "code",
   "execution_count": 169,
   "id": "e03410ff-4454-4b8e-8803-4811b4346982",
   "metadata": {},
   "outputs": [
    {
     "data": {
      "text/plain": [
       "3"
      ]
     },
     "execution_count": 169,
     "metadata": {},
     "output_type": "execute_result"
    }
   ],
   "source": [
    "count_lines(\"three.txt\")"
   ]
  },
  {
   "cell_type": "markdown",
   "id": "a3e7e02a-6f2d-4c8f-9838-fc14cd894493",
   "metadata": {},
   "source": [
    "Modules"
   ]
  },
  {
   "cell_type": "code",
   "execution_count": 170,
   "id": "772a7bdc-93e6-4c27-bbe4-354ffd00a203",
   "metadata": {},
   "outputs": [],
   "source": [
    "import os"
   ]
  },
  {
   "cell_type": "code",
   "execution_count": 171,
   "id": "a2ebb92e-2810-4cf0-94bd-6ee6b2f64ef7",
   "metadata": {},
   "outputs": [
    {
     "data": {
      "text/plain": [
       "'/Users/madhurimandava/Desktop/GitHub/practical-computing-template/notebooks'"
      ]
     },
     "execution_count": 171,
     "metadata": {},
     "output_type": "execute_result"
    }
   ],
   "source": [
    "os.getcwd()\n"
   ]
  },
  {
   "cell_type": "markdown",
   "id": "768ab15d-1095-44a1-b59a-66a1535d79f9",
   "metadata": {},
   "source": [
    "# list all the files in the current directory"
   ]
  },
  {
   "cell_type": "code",
   "execution_count": 174,
   "id": "5ead9c64-0121-4927-a28f-1cf90d880456",
   "metadata": {},
   "outputs": [
    {
     "data": {
      "text/plain": [
       "['hello.py',\n",
       " 'assignment-01.ipynb',\n",
       " '.DS_Store',\n",
       " 'three.txt',\n",
       " 'Learn-Python.ipynb',\n",
       " '0-introduction-to-jupytelab.ipynb',\n",
       " '.ipynb_checkpoints',\n",
       " '.jupyter',\n",
       " '1-taste-of-python.ipynb',\n",
       " 'hello.txt',\n",
       " 'five.txt',\n",
       " 'Image.jpg']"
      ]
     },
     "execution_count": 174,
     "metadata": {},
     "output_type": "execute_result"
    }
   ],
   "source": [
    "os.listdir()"
   ]
  },
  {
   "cell_type": "code",
   "execution_count": 176,
   "id": "98e3beb3-170a-410e-aa0f-f37e6c06b5ae",
   "metadata": {},
   "outputs": [
    {
     "data": {
      "text/plain": [
       "['hello.py',\n",
       " 'assignment-01.ipynb',\n",
       " '.DS_Store',\n",
       " 'three.txt',\n",
       " 'Learn-Python.ipynb',\n",
       " '0-introduction-to-jupytelab.ipynb',\n",
       " '.ipynb_checkpoints',\n",
       " '.jupyter',\n",
       " '1-taste-of-python.ipynb',\n",
       " 'hello.txt',\n",
       " 'five.txt',\n",
       " 'Image.jpg']"
      ]
     },
     "execution_count": 176,
     "metadata": {},
     "output_type": "execute_result"
    }
   ],
   "source": [
    "os.listdir()\n"
   ]
  },
  {
   "cell_type": "code",
   "execution_count": 177,
   "id": "4e43e01b-d4b0-4a26-a8ea-c9ee8b1eeb84",
   "metadata": {},
   "outputs": [
    {
     "data": {
      "text/plain": [
       "['hello.py',\n",
       " 'assignment-01.ipynb',\n",
       " '.DS_Store',\n",
       " 'three.txt',\n",
       " 'Learn-Python.ipynb',\n",
       " '0-introduction-to-jupytelab.ipynb',\n",
       " '.ipynb_checkpoints',\n",
       " '.jupyter',\n",
       " '1-taste-of-python.ipynb',\n",
       " 'hello.txt',\n",
       " 'five.txt',\n",
       " 'Image.jpg']"
      ]
     },
     "execution_count": 177,
     "metadata": {},
     "output_type": "execute_result"
    }
   ],
   "source": [
    "os.listdir(\".\")"
   ]
  },
  {
   "cell_type": "code",
   "execution_count": 178,
   "id": "4e158cc3-c95d-49a6-9baf-8e6a03acd6b5",
   "metadata": {},
   "outputs": [
    {
     "data": {
      "text/plain": [
       "\u001b[0;31mType:\u001b[0m        module\n",
       "\u001b[0;31mString form:\u001b[0m <module 'os' (frozen)>\n",
       "\u001b[0;31mFile:\u001b[0m        ~/Library/jupyterlab-desktop/jlab_server/lib/python3.12/os.py\n",
       "\u001b[0;31mDocstring:\u001b[0m  \n",
       "OS routines for NT or Posix depending on what system we're on.\n",
       "\n",
       "This exports:\n",
       "  - all functions from posix or nt, e.g. unlink, stat, etc.\n",
       "  - os.path is either posixpath or ntpath\n",
       "  - os.name is either 'posix' or 'nt'\n",
       "  - os.curdir is a string representing the current directory (always '.')\n",
       "  - os.pardir is a string representing the parent directory (always '..')\n",
       "  - os.sep is the (or a most common) pathname separator ('/' or '\\\\')\n",
       "  - os.extsep is the extension separator (always '.')\n",
       "  - os.altsep is the alternate pathname separator (None or '/')\n",
       "  - os.pathsep is the component separator used in $PATH etc\n",
       "  - os.linesep is the line separator in text files ('\\r' or '\\n' or '\\r\\n')\n",
       "  - os.defpath is the default search path for executables\n",
       "  - os.devnull is the file path of the null device ('/dev/null', etc.)\n",
       "\n",
       "Programs that import and use 'os' stand a better chance of being\n",
       "portable between different platforms.  Of course, they must then\n",
       "only use functions that are defined by all platforms (e.g., unlink\n",
       "and opendir), and leave all pathname manipulation to os.path\n",
       "(e.g., split and join)."
      ]
     },
     "metadata": {},
     "output_type": "display_data"
    }
   ],
   "source": [
    "os?"
   ]
  },
  {
   "cell_type": "code",
   "execution_count": 179,
   "id": "cf70c2f9-b9f3-4708-904b-5aaa34180f02",
   "metadata": {},
   "outputs": [],
   "source": [
    "import time"
   ]
  },
  {
   "cell_type": "code",
   "execution_count": 180,
   "id": "1ca518aa-73fd-47bb-8096-1578b15c1855",
   "metadata": {},
   "outputs": [
    {
     "data": {
      "text/plain": [
       "'Mon Oct 14 17:35:45 2024'"
      ]
     },
     "execution_count": 180,
     "metadata": {},
     "output_type": "execute_result"
    }
   ],
   "source": [
    "time.asctime()"
   ]
  },
  {
   "cell_type": "code",
   "execution_count": 183,
   "id": "467ee352-bd66-4324-9e7e-205772a523ee",
   "metadata": {},
   "outputs": [],
   "source": [
    "from time import asctime"
   ]
  },
  {
   "cell_type": "code",
   "execution_count": 184,
   "id": "0dc3add6-f58c-4fd0-ac3d-1b694c843922",
   "metadata": {},
   "outputs": [
    {
     "data": {
      "text/plain": [
       "'Mon Oct 14 17:36:15 2024'"
      ]
     },
     "execution_count": 184,
     "metadata": {},
     "output_type": "execute_result"
    }
   ],
   "source": [
    "asctime()"
   ]
  },
  {
   "cell_type": "code",
   "execution_count": 185,
   "id": "268bf14a-0b34-427b-80f3-4585d03bc28f",
   "metadata": {},
   "outputs": [
    {
     "data": {
      "text/plain": [
       "1728907607.593651"
      ]
     },
     "execution_count": 185,
     "metadata": {},
     "output_type": "execute_result"
    }
   ],
   "source": [
    "time.time()"
   ]
  },
  {
   "cell_type": "markdown",
   "id": "0e0cefbe-addd-430f-a23e-f3f98728ee77",
   "metadata": {},
   "source": [
    "#### Lists in more detail"
   ]
  },
  {
   "cell_type": "code",
   "execution_count": 191,
   "id": "dc26e45d-4223-4781-aa73-d20bee10a3c0",
   "metadata": {},
   "outputs": [],
   "source": [
    "x = ['a','b','c','d','e']"
   ]
  },
  {
   "cell_type": "code",
   "execution_count": 192,
   "id": "195cfe0b-23ef-4c61-9bc1-7276d3d0aa17",
   "metadata": {},
   "outputs": [
    {
     "data": {
      "text/plain": [
       "5"
      ]
     },
     "execution_count": 192,
     "metadata": {},
     "output_type": "execute_result"
    }
   ],
   "source": [
    "len(x)\n"
   ]
  },
  {
   "cell_type": "code",
   "execution_count": 193,
   "id": "99bf37bf-0687-4b01-a86f-0daea3882a3e",
   "metadata": {},
   "outputs": [
    {
     "data": {
      "text/plain": [
       "'a'"
      ]
     },
     "execution_count": 193,
     "metadata": {},
     "output_type": "execute_result"
    }
   ],
   "source": [
    "x[0]"
   ]
  },
  {
   "cell_type": "code",
   "execution_count": null,
   "id": "77118652-810b-498a-81cd-dbc1981cea42",
   "metadata": {},
   "outputs": [],
   "source": [
    "names = [\"Bob\",\"rob\",\"tob\"]"
   ]
  },
  {
   "cell_type": "code",
   "execution_count": 195,
   "id": "1e900794-906e-4342-9010-a7ca33eef412",
   "metadata": {},
   "outputs": [
    {
     "name": "stdout",
     "output_type": "stream",
     "text": [
      "Alice\n",
      "Rob\n",
      "Bob\n",
      "Sob\n"
     ]
    }
   ],
   "source": [
    "for name in names:\n",
    "    print(name)"
   ]
  },
  {
   "cell_type": "code",
   "execution_count": 196,
   "id": "f50c1f4f-cdec-4944-9369-3229f150757f",
   "metadata": {},
   "outputs": [
    {
     "name": "stdout",
     "output_type": "stream",
     "text": [
      "0\n",
      "1\n",
      "2\n",
      "3\n",
      "4\n"
     ]
    }
   ],
   "source": [
    "for i in range(5):\n",
    "    print(i)"
   ]
  },
  {
   "cell_type": "markdown",
   "id": "23171515-de1a-4158-9e88-ee708a596e70",
   "metadata": {},
   "source": [
    "** problem ** Write a function product to compute the product of given list of numbers\n"
   ]
  },
  {
   "cell_type": "code",
   "execution_count": 222,
   "id": "092754ec-f166-4551-9591-95fe99bf27d0",
   "metadata": {},
   "outputs": [],
   "source": [
    "def product(numbers):\n",
    "    results = 1\n",
    "    print(\"begin result =\",results)\n",
    "    for n in numbers:\n",
    "        results = results * n\n",
    "        print(\"n\",n,\"result=\", results)\n",
    "    return results"
   ]
  },
  {
   "cell_type": "code",
   "execution_count": 223,
   "id": "df490d80-4977-4619-bc48-30cf2679c2ff",
   "metadata": {},
   "outputs": [
    {
     "name": "stdout",
     "output_type": "stream",
     "text": [
      "begin result = 1\n",
      "n 1 result= 1\n",
      "n 3 result= 3\n",
      "n 5 result= 15\n"
     ]
    },
    {
     "data": {
      "text/plain": [
       "15"
      ]
     },
     "execution_count": 223,
     "metadata": {},
     "output_type": "execute_result"
    }
   ],
   "source": [
    "product([1,3,5])"
   ]
  },
  {
   "cell_type": "code",
   "execution_count": 232,
   "id": "4e0a842f-a9b6-4ca9-9dd2-4af2bc25ec4b",
   "metadata": {},
   "outputs": [
    {
     "name": "stdout",
     "output_type": "stream",
     "text": [
      "begin result = 1\n",
      "n 3 result= 3\n",
      "n 7 result= 21\n",
      "n 9 result= 189\n",
      "n 10 result= 1890\n"
     ]
    },
    {
     "data": {
      "text/plain": [
       "1890"
      ]
     },
     "execution_count": 232,
     "metadata": {},
     "output_type": "execute_result"
    }
   ],
   "source": [
    "product([3,7,9,10])"
   ]
  },
  {
   "cell_type": "code",
   "execution_count": 233,
   "id": "4a7862e2-1e59-4017-9674-d672f50d4c29",
   "metadata": {},
   "outputs": [
    {
     "data": {
      "text/plain": [
       "'wrong.'"
      ]
     },
     "execution_count": 233,
     "metadata": {},
     "output_type": "execute_result"
    }
   ],
   "source": [
    "sentence.split()[-1]"
   ]
  },
  {
   "cell_type": "markdown",
   "id": "d76a1406-0b12-4fad-b2e5-01db443f174d",
   "metadata": {},
   "source": [
    "### growing lists"
   ]
  },
  {
   "cell_type": "code",
   "execution_count": 236,
   "id": "501db7a4-02ee-4942-ae90-cec6d073e183",
   "metadata": {},
   "outputs": [],
   "source": [
    "x = [1,2,3,4]"
   ]
  },
  {
   "cell_type": "code",
   "execution_count": 238,
   "id": "9843d198-6158-49a4-8347-ebe5a290da2b",
   "metadata": {},
   "outputs": [],
   "source": [
    "x.append(5)"
   ]
  },
  {
   "cell_type": "code",
   "execution_count": 239,
   "id": "735b574a-5797-4f8a-b0bb-ea25bc0e3bcd",
   "metadata": {},
   "outputs": [
    {
     "data": {
      "text/plain": [
       "[1, 2, 3, 4, 5]"
      ]
     },
     "execution_count": 239,
     "metadata": {},
     "output_type": "execute_result"
    }
   ],
   "source": [
    "x\n"
   ]
  },
  {
   "cell_type": "markdown",
   "id": "563e51ef-da32-4b62-a7ac-bd7d9b7bf02c",
   "metadata": {},
   "source": [
    "### List comprehensions"
   ]
  },
  {
   "cell_type": "code",
   "execution_count": 241,
   "id": "d8121900-6310-4411-8b6a-8d0b597a3df9",
   "metadata": {},
   "outputs": [],
   "source": [
    "numbers = [1,4,5,9,20]"
   ]
  },
  {
   "cell_type": "code",
   "execution_count": 242,
   "id": "8e70a390-abee-4e46-ae94-699ba4e53368",
   "metadata": {},
   "outputs": [
    {
     "data": {
      "text/plain": [
       "[1, 16, 25, 81, 400]"
      ]
     },
     "execution_count": 242,
     "metadata": {},
     "output_type": "execute_result"
    }
   ],
   "source": [
    "[n*n for n in numbers]"
   ]
  },
  {
   "cell_type": "code",
   "execution_count": null,
   "id": "efdf402b-a141-4f9b-a55b-5464cc7c4702",
   "metadata": {},
   "outputs": [],
   "source": [
    "def sumfile(filename):\n",
    "    lines = open(filename).readlines()\n",
    "    numbers = (int(line)."
   ]
  }
 ],
 "metadata": {
  "kernelspec": {
   "display_name": "Python 3 (ipykernel)",
   "language": "python",
   "name": "python3"
  },
  "language_info": {
   "codemirror_mode": {
    "name": "ipython",
    "version": 3
   },
   "file_extension": ".py",
   "mimetype": "text/x-python",
   "name": "python",
   "nbconvert_exporter": "python",
   "pygments_lexer": "ipython3",
   "version": "3.12.5"
  }
 },
 "nbformat": 4,
 "nbformat_minor": 5
}
