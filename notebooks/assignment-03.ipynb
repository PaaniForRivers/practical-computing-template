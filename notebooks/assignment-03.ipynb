{
 "cells": [
  {
   "cell_type": "markdown",
   "metadata": {},
   "source": [
    "# Assignment 03"
   ]
  },
  {
   "cell_type": "markdown",
   "metadata": {},
   "source": []
  },
  {
   "cell_type": "markdown",
   "metadata": {},
   "source": [
    "## Problem 1: Countdown"
   ]
  },
  {
   "attachments": {},
   "cell_type": "markdown",
   "metadata": {},
   "source": [
    "Write a program `countdown.py` to print numbers from `n` to 1.\n",
    "\n",
    "The program should take the number `n` as command-line argument.\n",
    "\n",
    "```\n",
    "$ python countdown.py 5\n",
    "5\n",
    "4\n",
    "3\n",
    "2\n",
    "1\n",
    "```"
   ]
  },
  {
   "cell_type": "code",
   "execution_count": 22,
   "metadata": {},
   "outputs": [
    {
     "name": "stdout",
     "output_type": "stream",
     "text": [
      "Overwriting countdown.py\n"
     ]
    }
   ],
   "source": [
    "%%file countdown.py\n",
    "import sys\n",
    "## Get the filename \n",
    "number = int(sys.argv[1]) # convert the input to an integer\n",
    "# print from n to 1 \n",
    "for n in range(number, 0, -1):\n",
    "  print(n)"
   ]
  },
  {
   "cell_type": "code",
   "execution_count": 23,
   "metadata": {},
   "outputs": [
    {
     "name": "stdout",
     "output_type": "stream",
     "text": [
      "10\n",
      "9\n",
      "8\n",
      "7\n",
      "6\n",
      "5\n",
      "4\n",
      "3\n",
      "2\n",
      "1\n"
     ]
    }
   ],
   "source": [
    "!python3 countdown.py 10"
   ]
  },
  {
   "cell_type": "code",
   "execution_count": 24,
   "metadata": {},
   "outputs": [
    {
     "name": "stdout",
     "output_type": "stream",
     "text": [
      "15\n",
      "14\n",
      "13\n",
      "12\n",
      "11\n",
      "10\n",
      "9\n",
      "8\n",
      "7\n",
      "6\n",
      "5\n",
      "4\n",
      "3\n",
      "2\n",
      "1\n"
     ]
    }
   ],
   "source": [
    "!python3 countdown.py 15"
   ]
  },
  {
   "attachments": {},
   "cell_type": "markdown",
   "metadata": {},
   "source": [
    "## Probelm 2: Sum of Arguments"
   ]
  },
  {
   "attachments": {},
   "cell_type": "markdown",
   "metadata": {},
   "source": [
    "Write a program `sum.py` that takes one or more numbers as command-line arguments and prints their sum.\n",
    "\n",
    "```\n",
    "$ python sum.py 1 2 3 4\n",
    "10\n",
    "\n",
    "$ python sum.py 1 2 3 4 5\n",
    "15\n",
    "```"
   ]
  },
  {
   "cell_type": "code",
   "execution_count": 51,
   "metadata": {},
   "outputs": [
    {
     "name": "stdout",
     "output_type": "stream",
     "text": [
      "Overwriting sum.py\n"
     ]
    }
   ],
   "source": [
    "%%file sum.py\n",
    "import sys\n",
    "# intialize sum as '0'\n",
    "sum = 0\n",
    "# there are variable number of arguments, so use the [1:]\n",
    "for arg in sys.argv[1:]:\n",
    "    num = int(arg)\n",
    "    sum = sum + int(num)\n",
    "print(sum)"
   ]
  },
  {
   "cell_type": "code",
   "execution_count": 52,
   "metadata": {},
   "outputs": [
    {
     "name": "stdout",
     "output_type": "stream",
     "text": [
      "6\n"
     ]
    }
   ],
   "source": [
    "!python3 sum.py 1 2 3"
   ]
  },
  {
   "cell_type": "code",
   "execution_count": 55,
   "metadata": {},
   "outputs": [
    {
     "name": "stdout",
     "output_type": "stream",
     "text": [
      "2015\n"
     ]
    }
   ],
   "source": [
    "!python3 sum.py 322 406 766 400 3 1 2 7 8 100"
   ]
  },
  {
   "cell_type": "markdown",
   "metadata": {},
   "source": [
    "## Problem 3: Uppercase"
   ]
  },
  {
   "attachments": {},
   "cell_type": "markdown",
   "metadata": {},
   "source": [
    "Write a program uppercase.py that takes a filename as command-line argument and prints all the contents of the file in uppercase.\n",
    "\n",
    "```\n",
    "$ python uppercase.py five.txt\n",
    "ONE\n",
    "TWO\n",
    "THREE\n",
    "FOUR\n",
    "FIVE\n",
    "```"
   ]
  },
  {
   "cell_type": "code",
   "execution_count": 47,
   "metadata": {},
   "outputs": [
    {
     "name": "stdout",
     "output_type": "stream",
     "text": [
      "Overwriting five.txt\n"
     ]
    }
   ],
   "source": [
    "%%file five.txt\n",
    "one\n",
    "two\n",
    "three\n",
    "four\n",
    "five"
   ]
  },
  {
   "cell_type": "code",
   "execution_count": 49,
   "metadata": {},
   "outputs": [
    {
     "name": "stdout",
     "output_type": "stream",
     "text": [
      "Overwriting uppercase.py\n"
     ]
    }
   ],
   "source": [
    "%%file uppercase.py \n",
    "import sys\n",
    "\n",
    "# get the filename\n",
    "filename = sys.argv[1]\n",
    "\n",
    "# read the contents of the file\n",
    "contents = open(filename).read()\n",
    "\n",
    "# print them in uppercase\n",
    "print(contents.upper())\n"
   ]
  },
  {
   "cell_type": "code",
   "execution_count": 50,
   "metadata": {},
   "outputs": [
    {
     "name": "stdout",
     "output_type": "stream",
     "text": [
      "ONE\n",
      "TWO\n",
      "THREE\n",
      "FOUR\n",
      "FIVE\n",
      "\n"
     ]
    }
   ],
   "source": [
    "!python3 uppercase.py five.txt"
   ]
  },
  {
   "cell_type": "code",
   "execution_count": null,
   "metadata": {},
   "outputs": [],
   "source": []
  },
  {
   "attachments": {},
   "cell_type": "markdown",
   "metadata": {},
   "source": [
    "## Problem 4: Concatinate two files"
   ]
  },
  {
   "attachments": {},
   "cell_type": "markdown",
   "metadata": {},
   "source": [
    "Write a program `concat.py` that takes three filenames as argument and concatinates the contents first two files and writes them into the last one.\n",
    "\n",
    "For example, the following would concatinate the contents of `a.txt` and `b.txt` and writes them to `ab.txt`.\n",
    "\n",
    "```\n",
    "$ python combine.py a.txt b.txt ab.txt\n",
    "```\n",
    "\n",
    "After running this, the file `ab.txt will have the following contents.\n",
    "\n",
    "```\n",
    "A1\n",
    "A2\n",
    "B1\n",
    "B2\n",
    "B3\n",
    "```"
   ]
  },
  {
   "cell_type": "code",
   "execution_count": 56,
   "metadata": {},
   "outputs": [
    {
     "name": "stdout",
     "output_type": "stream",
     "text": [
      "Overwriting a.txt\n"
     ]
    }
   ],
   "source": [
    "%%file a.txt\n",
    "A1\n",
    "A2"
   ]
  },
  {
   "cell_type": "code",
   "execution_count": 57,
   "metadata": {},
   "outputs": [
    {
     "name": "stdout",
     "output_type": "stream",
     "text": [
      "Writing b.txt\n"
     ]
    }
   ],
   "source": [
    "%%file b.txt\n",
    "B1\n",
    "B2\n",
    "B3"
   ]
  },
  {
   "cell_type": "code",
   "execution_count": 64,
   "metadata": {},
   "outputs": [
    {
     "name": "stdout",
     "output_type": "stream",
     "text": [
      "Overwriting concat.py\n"
     ]
    }
   ],
   "source": [
    "%%file concat.py \n",
    "import sys\n",
    "\n",
    "# get the two filenames\n",
    "\n",
    "file1 = sys.argv[1]\n",
    "file2 = sys.argv[2]\n",
    "\n",
    "# create the concatenated filename \n",
    "concat_filename = f\"{file1.split('.')[0]}{file2.split('.')[0]}.txt\"\n",
    "\n",
    "# read the contents with with to ensure the files are closed properly\n",
    "with open(file1, 'r') as f1:\n",
    "    file1_contents = f1.read()\n",
    "\n",
    "with open(file2, 'r') as f2:\n",
    "    file2_contents = f2.read()\n",
    "\n",
    "\n",
    "with open((concat_filename),\"w\")as f:\n",
    "       f.write(file1_contents)\n",
    "       f.write(file2_contents)\n",
    "\n",
    "print(\"files concatenated\")\n",
    "\n",
    "\n",
    "\n",
    "\n",
    "\n",
    "\n",
    "\n",
    "\n"
   ]
  },
  {
   "cell_type": "code",
   "execution_count": 65,
   "metadata": {},
   "outputs": [
    {
     "name": "stdout",
     "output_type": "stream",
     "text": [
      "files concatenated\n"
     ]
    }
   ],
   "source": [
    "!python3 concat.py a.txt b.txt"
   ]
  },
  {
   "attachments": {},
   "cell_type": "markdown",
   "metadata": {},
   "source": [
    "## Problem 5: Reverse Lines"
   ]
  },
  {
   "attachments": {},
   "cell_type": "markdown",
   "metadata": {},
   "source": [
    "Write a program `reverse.py` that takes a filename as command-line argument and prints all the lines in that file in the reverse order.\n",
    "\n",
    "```\n",
    "$ python reverse.py files/five.txt\n",
    "five\n",
    "four\n",
    "three\n",
    "two\n",
    "one\n",
    "```\n"
   ]
  },
  {
   "cell_type": "code",
   "execution_count": 3,
   "metadata": {},
   "outputs": [
    {
     "name": "stdout",
     "output_type": "stream",
     "text": [
      "Overwriting five.txt\n"
     ]
    }
   ],
   "source": [
    "%%file five.txt\n",
    "one\n",
    "two\n",
    "three\n",
    "four\n",
    "five"
   ]
  },
  {
   "cell_type": "code",
   "execution_count": 68,
   "metadata": {},
   "outputs": [
    {
     "name": "stdout",
     "output_type": "stream",
     "text": [
      "Overwriting reverse.py\n"
     ]
    }
   ],
   "source": [
    "%%file reverse.py\n",
    "import sys\n",
    "# get the file name\n",
    "file = sys.argv[1]\n",
    "with open(file, 'r') as f1:\n",
    "    file_contents = f1.read()\n",
    "    for line in reversed(file_contents):\n",
    "      print(line)\n"
   ]
  },
  {
   "cell_type": "code",
   "execution_count": 69,
   "metadata": {},
   "outputs": [
    {
     "name": "stdout",
     "output_type": "stream",
     "text": [
      "\n",
      "\n",
      "e\n",
      "v\n",
      "i\n",
      "f\n",
      "\n",
      "\n",
      "r\n",
      "u\n",
      "o\n",
      "f\n",
      "\n",
      "\n",
      "e\n",
      "e\n",
      "r\n",
      "h\n",
      "t\n",
      "\n",
      "\n",
      "o\n",
      "w\n",
      "t\n",
      "\n",
      "\n",
      "e\n",
      "n\n",
      "o\n"
     ]
    }
   ],
   "source": [
    "!python3 reverse.py five.txt"
   ]
  },
  {
   "cell_type": "code",
   "execution_count": 78,
   "metadata": {},
   "outputs": [
    {
     "name": "stdout",
     "output_type": "stream",
     "text": [
      "Overwriting reverse.py\n"
     ]
    }
   ],
   "source": [
    "%%file reverse.py\n",
    "import sys\n",
    "# get the file name\n",
    "file = sys.argv[1]\n",
    "# read the contents of the file line by line\n",
    "with open(file, 'r') as f1:\n",
    "    file_contents = f1.readlines()\n",
    "    # print the reveresed order\n",
    "    for line in reversed(file_contents):\n",
    "      print(line)"
   ]
  },
  {
   "cell_type": "code",
   "execution_count": 79,
   "metadata": {},
   "outputs": [
    {
     "name": "stdout",
     "output_type": "stream",
     "text": [
      "five\n",
      "\n",
      "four\n",
      "\n",
      "three\n",
      "\n",
      "two\n",
      "\n",
      "one\n",
      "\n"
     ]
    }
   ],
   "source": [
    "!python3 reverse.py five.txt"
   ]
  },
  {
   "attachments": {},
   "cell_type": "markdown",
   "metadata": {},
   "source": [
    "## Problem 6: Generate Password"
   ]
  },
  {
   "cell_type": "markdown",
   "metadata": {},
   "source": [
    "Write a function `generate_password` to generate random password of given length.\n",
    "\n",
    "The function should take length `n` as argument and generate a password using mix of letters from lowercase, uppercase from English alphabet and digits. It should not have any other characters.\n",
    "\n",
    "```\n",
    ">>> generate_password(8)\n",
    "'rBZLcP8V'\n",
    ">>> generate_password(25)\n",
    "'JU938tUT36QRvVEPh9OLrxlrB'\n",
    "```\n",
    "\n",
    "**Hint**\n",
    "\n",
    "* See `random.choice` function from the `random` module\n",
    "* See `string.ascii_letters` and `string.digits` from the string module"
   ]
  },
  {
   "cell_type": "code",
   "execution_count": 101,
   "metadata": {},
   "outputs": [
    {
     "name": "stdout",
     "output_type": "stream",
     "text": [
      "Overwriting generate_password\n"
     ]
    }
   ],
   "source": [
    "%%file generate_password \n",
    "import sys\n",
    "import random\n",
    "import string\n",
    "\n",
    "# get the password length which will be a string into int \n",
    "password_len = int(sys.argv[1])\n",
    "\n",
    "# get a string with all letters - upper case and lowercase\n",
    "letters_all = string.ascii_letters\n",
    "print(letters_all)\n",
    "\n",
    "# All digits \n",
    "digits_all = string.digits\n",
    "print(digits_all)\n",
    "\n",
    "# Create the string with all digits and letters (uppercase and lowercase)\n",
    "string_digits_letters_all = string.ascii_letters + string.digits\n",
    "\n",
    "# this didn't work since only char/digit is randomly selected\n",
    "password = random.choice(string_digits_letters_all)\n",
    "print(password)\n",
    "\n",
    "# code for generating a password of password_len\n",
    "password = []\n",
    "\n",
    "for i in range(password_len):\n",
    "  password.append(random.choice(string_digits_letters_all))\n",
    "\n",
    "# password is a list now. \n",
    "\n",
    "# join the list of randomly selected characters/ digits to form the final password and without a space\n",
    "generated_password = \"\".join(password)\n",
    "print(\"Generated Password: \", generated_password)"
   ]
  },
  {
   "cell_type": "code",
   "execution_count": 102,
   "metadata": {},
   "outputs": [
    {
     "name": "stdout",
     "output_type": "stream",
     "text": [
      "abcdefghijklmnopqrstuvwxyzABCDEFGHIJKLMNOPQRSTUVWXYZ\n",
      "0123456789\n",
      "u\n",
      "Generated Password:  eLDBG547zAOiVan\n"
     ]
    }
   ],
   "source": [
    "!python3 generate_password 15"
   ]
  },
  {
   "cell_type": "code",
   "execution_count": null,
   "metadata": {},
   "outputs": [],
   "source": []
  },
  {
   "cell_type": "code",
   "execution_count": null,
   "metadata": {},
   "outputs": [],
   "source": []
  },
  {
   "attachments": {},
   "cell_type": "markdown",
   "metadata": {},
   "source": [
    "## Problem 7: Fortune"
   ]
  },
  {
   "attachments": {},
   "cell_type": "markdown",
   "metadata": {},
   "source": [
    "`fortune` is popular program on Unix that displays a random message from a database of quotations. These  quotes are often funny and witty. \n",
    "\n",
    "Your task is a implement a simpler version of the _fortune_ command. Write a program `fortune.py` that prints a random quote from `fortune.txt` file. The file contains quotes separated by `%`. A sample `fortune.txt` is provided below.\n",
    "\n",
    "This is how it is suppose to work.\n",
    "\n",
    "```\n",
    "$ python fortune.py\n",
    "You are taking yourself far too seriously.\n",
    "\n",
    "$ python fortune.py\n",
    "It usually takes more than three weeks to prepare a good impromptu speech.\n",
    "                -- Mark Twain\n",
    "```\n",
    "\n",
    "**Hint:**\n",
    "\n",
    "Python has a built-in module `random`. It can be used to pick a random item from a list of items.\n",
    "\n",
    "```python\n",
    ">>> import random\n",
    ">>> names = [\"alice\", \"bob\", \"charlie\", \"dave\"]\n",
    ">>> random.choice(names)\n",
    "'charlie'\n",
    ">>> random.choice(names)\n",
    "'alice'\n",
    "```"
   ]
  },
  {
   "cell_type": "code",
   "execution_count": 103,
   "metadata": {},
   "outputs": [
    {
     "name": "stdout",
     "output_type": "stream",
     "text": [
      "Writing fortune.txt\n"
     ]
    }
   ],
   "source": [
    "%%file fortune.txt\n",
    "You will soon forget this.\n",
    "%\n",
    "Too much is just enough.\n",
    "                -- Mark Twain, on whiskey\n",
    "%\n",
    "Q:      Why did the astrophysicist order three hamburgers?\n",
    "A:      Because he was hungry.\n",
    "%\n",
    "You will be aided greatly by a person whom you thought to be unimportant.\n",
    "%\n",
    "Communicate!  It can't make things any worse.\n",
    "%\n",
    "It usually takes more than three weeks to prepare a good impromptu speech.\n",
    "                -- Mark Twain\n",
    "%\n",
    "Write yourself a threatening letter and pen a defiant reply.\n",
    "%\n",
    "You should go home.\n",
    "%\n",
    "You are taking yourself far too seriously.\n",
    "%\n",
    "Q:      Do you know what the death rate around here is?\n",
    "A:      One per person.\n",
    "%\n",
    "You need no longer worry about the future.  This time tomorrow you'll be dead.                "
   ]
  },
  {
   "cell_type": "code",
   "execution_count": 110,
   "metadata": {},
   "outputs": [
    {
     "name": "stdout",
     "output_type": "stream",
     "text": [
      "Overwriting fortune.py\n"
     ]
    }
   ],
   "source": [
    "%%file fortune.py\n",
    "import random\n",
    "\n",
    "# Get all the quotes from the file seperated by '%'\n",
    "quotes = open(\"fortune.txt\").read().split('%')\n",
    "\n",
    "# print random quotes everytime the program is called\n",
    "print(random.choice(quotes))\n"
   ]
  },
  {
   "cell_type": "code",
   "execution_count": 114,
   "metadata": {},
   "outputs": [
    {
     "name": "stdout",
     "output_type": "stream",
     "text": [
      "\n",
      "Too much is just enough.\n",
      "                -- Mark Twain, on whiskey\n",
      "\n"
     ]
    }
   ],
   "source": [
    "!python3 fortune.py "
   ]
  },
  {
   "cell_type": "code",
   "execution_count": 115,
   "metadata": {},
   "outputs": [
    {
     "name": "stdout",
     "output_type": "stream",
     "text": [
      "\n",
      "Write yourself a threatening letter and pen a defiant reply.\n",
      "\n"
     ]
    }
   ],
   "source": [
    "!python3 fortune.py "
   ]
  },
  {
   "attachments": {},
   "cell_type": "markdown",
   "metadata": {},
   "source": [
    "## Problem 8:  Nominatim OSM Search"
   ]
  },
  {
   "attachments": {},
   "cell_type": "markdown",
   "metadata": {},
   "source": [
    "Write a program `nominatim.py` to search for a place in Open Street Map using [Nominatim API][1].\n",
    "\n",
    "[1]: https://nominatim.org/release-docs/develop/api/Search/\n",
    "\n",
    "#### The API\n",
    "\n",
    "```\n",
    "$ curl 'https://nominatim.openstreetmap.org/search.php?q=bangalore&format=jsonv2'\n",
    "[\n",
    "  {\n",
    "    \"place_id\": 216751017,\n",
    "    \"licence\": \"Data © OpenStreetMap contributors, ODbL 1.0. http://osm.org/copyright\",\n",
    "    \"osm_type\": \"relation\",\n",
    "    \"osm_id\": 7902476,\n",
    "    \"lat\": \"12.9767936\",\n",
    "    \"lon\": \"77.590082\",\n",
    "    \"category\": \"boundary\",\n",
    "    \"type\": \"administrative\",\n",
    "    \"place_rank\": 16,\n",
    "    \"importance\": 0.6094348238975636,\n",
    "    \"addresstype\": \"city\",\n",
    "    \"name\": \"Bengaluru\",\n",
    "    \"display_name\": \"Bengaluru, Bangalore North, Bengaluru Urban District, Karnataka, India\",\n",
    "    \"boundingbox\": [\n",
    "      \"12.8340125\",\n",
    "      \"13.1436649\",\n",
    "      \"77.4601025\",\n",
    "      \"77.7840515\"\n",
    "    ]\n",
    "  }\n",
    "]\n",
    "```\n",
    "\n",
    "The Nominatum API returns the information about the matched locations. There could be zero, one, or more matches.\n",
    "\n",
    "#### The Program\n",
    "\n",
    "The program is expected to take the place name as a command-line argument and print the `display_name`, `type`, `lat` and `lon` for every match from the nominatum search for that place, as shown in the examples below.\n",
    "\n",
    "```\n",
    "$ python nominatum.py Bangalore\n",
    "Bengaluru, Bangalore North, Bengaluru Urban District, Karnataka, India\n",
    "Type: administrative\n",
    "Latitude: 12.9767936\n",
    "Longitude: 77.590082\n",
    "\n",
    "```\n",
    "\n",
    "When there are multiple matches, they are separated by a new line.\n",
    "\n",
    "```\n",
    "$ python nominatum.py \"silk board\"\n",
    "Silk Board, Outer Ring Road, BTM 2nd Stage, BTM Layout Ward, South Zone, Bengaluru, Bangalore South, Bengaluru Urban District, Karnataka, 560034, India\n",
    "Type: bus_stop\n",
    "Latitude: 12.9170295\n",
    "Longitude: 77.6223209\n",
    "\n",
    "Silk Board, Srinagar - Kanyakumari Highway, HSR Layout Ward, Bommanahalli Zone, Bengaluru, Bangalore South, Bengaluru Urban District, Karnataka, 560034, India\n",
    "Type: bus_stop\n",
    "Latitude: 12.9167972\n",
    "Longitude: 77.6235628\n",
    "\n",
    "```\n",
    "\n",
    "Sometimes there could be a lot of matches.\n",
    "\n",
    "```\n",
    "$ python nominatum.py Google\n",
    "Google, 355, Main Street, East Cambridge, Cambridge, Middlesex County, Massachusetts, 02142, United States\n",
    "Type: company\n",
    "Latitude: 42.3627717\n",
    "Longitude: -71.087257\n",
    "\n",
    "Google, West Bluff Creek Drive, Playa Vista, Los Angeles, Los Angeles County, California, 90094, United States\n",
    "Type: company\n",
    "Latitude: 33.977092\n",
    "Longitude: -118.4092133\n",
    "\n",
    "Google, Mountain View, Santa Clara County, California, United States\n",
    "Type: commercial\n",
    "Latitude: 37.419000999999994\n",
    "Longitude: -122.08237596053958\n",
    "\n",
    "Google, 150, Broadway, East Cambridge, Cambridge, Middlesex County, Massachusetts, 02142, United States\n",
    "Type: company\n",
    "Latitude: 42.3642662\n",
    "Longitude: -71.0887198\n",
    "\n",
    "Googal, Devadurga taluk, Raichur District, Karnataka, India\n",
    "Type: village\n",
    "Latitude: 16.4693278\n",
    "Longitude: 77.1442219\n",
    "\n",
    "Google, Kirkland, King County, Washington, United States\n",
    "Type: commercial\n",
    "Latitude: 47.6705578\n",
    "Longitude: -122.19707375045999\n",
    "\n",
    "```\n",
    "\n"
   ]
  },
  {
   "cell_type": "code",
   "execution_count": 11,
   "metadata": {},
   "outputs": [
    {
     "name": "stdout",
     "output_type": "stream",
     "text": [
      "Overwriting nominatum.py\n"
     ]
    }
   ],
   "source": [
    "%%file nominatum.py \n",
    "import requests\n",
    "import sys\n",
    "\n",
    "place_name = sys.argv[1]\n",
    "url = \"https://nominatim.openstreetmap.org/search.php\"\n",
    "\n",
    "params = {\"q\": place_name, \"format\": \"jsonv2\"}\n",
    "data = requests.get(url,params=params).json()\n",
    "print(data)\n",
    "\n",
    "for match in d:\n",
    "    \n"
   ]
  },
  {
   "cell_type": "code",
   "execution_count": 12,
   "metadata": {},
   "outputs": [
    {
     "name": "stdout",
     "output_type": "stream",
     "text": [
      "/Users/madhurimandava/Library/Python/3.9/lib/python/site-packages/urllib3/__init__.py:35: NotOpenSSLWarning: urllib3 v2 only supports OpenSSL 1.1.1+, currently the 'ssl' module is compiled with 'LibreSSL 2.8.3'. See: https://github.com/urllib3/urllib3/issues/3020\n",
      "  warnings.warn(\n",
      "<html>\n",
      "<head>\n",
      "<title>Access blocked</title>\n",
      "</head>\n",
      "<body>\n",
      "<h1>Access blocked</h1>\n",
      "\n",
      "<p>You have been blocked because you have violated the\n",
      "<a href=\"https://operations.osmfoundation.org/policies/nominatim/\">usage policy</a>\n",
      "of OSM's Nominatim geocoding service. Please be aware that OSM's resources are\n",
      "limited and shared between many users. The usage policy is there to ensure that\n",
      "the service remains usable for everybody.</p>\n",
      "\n",
      "<p>Please review the terms and make sure that your\n",
      "software adheres to the terms. You should in particular verify that you have set a\n",
      "<b>custom HTTP referrer or HTTP user agent</b> that identifies your application, and\n",
      "that you are not overusing the service with massive bulk requests.</p>\n",
      "\n",
      "<p>If you feel that this block is unjustified or remains after you have adopted\n",
      "your usage, you may contact the Nominatim system administrator at\n",
      "nominatim@openstreetmap.org to have this block lifted.</p>\n",
      "</body>\n",
      "</head>\n",
      "\n"
     ]
    }
   ],
   "source": [
    "!python3 nominatum.py SilkBoard"
   ]
  },
  {
   "cell_type": "code",
   "execution_count": null,
   "metadata": {},
   "outputs": [],
   "source": []
  },
  {
   "attachments": {},
   "cell_type": "markdown",
   "metadata": {},
   "source": [
    "## Problem 9: Client for Free Dictionary API"
   ]
  },
  {
   "attachments": {},
   "cell_type": "markdown",
   "metadata": {},
   "source": [
    "Write a program `dict.py` to find the meaning of a word using the [Free Dictionary API][1].\n",
    "\n",
    "[1]: https://dictionaryapi.dev/\n",
    "\n",
    "#### Expected Usage\n",
    "\n",
    "The program should take one word as argument and display the phonetics and meaning of that word using the Free Dictionary API.\n",
    "\n",
    "```\n",
    "$ python dict.py obscure\n",
    "onscure /əbˈskjɔː(ɹ)/\n",
    "\n",
    "VERB\n",
    "\n",
    "To render obscure; to darken; to make dim; to keep in the dark; to hide; to make less visible, intelligible, legible, glorious, beautiful, or illustrious.\n",
    "\n",
    "To hide, put out of sight etc.\n",
    "\n",
    "To conceal oneself; to hide.\n",
    "\n",
    "ADJECTIVE\n",
    "\n",
    "Dark, faint or indistinct.\n",
    "\n",
    "Hidden, out of sight or inconspicuous.\n",
    "```\n",
    "\n",
    "As you can see, The first line contains the word and its phonetic.\n",
    "For each part of speech, the part of speech is shown in uppercase, followed by each of the meaning provided in the response. There will be exactly one new line after each meaning and part-of-speech line."
   ]
  },
  {
   "cell_type": "code",
   "execution_count": 28,
   "metadata": {},
   "outputs": [
    {
     "name": "stdout",
     "output_type": "stream",
     "text": [
      "Overwriting dict.py\n"
     ]
    }
   ],
   "source": [
    "%%file dict.py\n",
    "import sys\n",
    "import requests\n",
    "\n",
    "\n",
    "lookup_word = sys.argv[1]\n",
    "\n",
    "url = f\"https://api.dictionaryapi.dev/api/v2/entries/en/{lookup_word}\"\n",
    "print(url)\n",
    "\n",
    "data = requests.get(url).json()\n",
    "data\n"
   ]
  },
  {
   "cell_type": "code",
   "execution_count": 29,
   "metadata": {},
   "outputs": [
    {
     "name": "stdout",
     "output_type": "stream",
     "text": [
      "/Users/madhurimandava/Library/Python/3.9/lib/python/site-packages/urllib3/__init__.py:35: NotOpenSSLWarning: urllib3 v2 only supports OpenSSL 1.1.1+, currently the 'ssl' module is compiled with 'LibreSSL 2.8.3'. See: https://github.com/urllib3/urllib3/issues/3020\n",
      "  warnings.warn(\n",
      "https://api.dictionaryapi.dev/api/v2/entries/en/leave\n"
     ]
    }
   ],
   "source": [
    "!python3 dict.py leave"
   ]
  },
  {
   "cell_type": "code",
   "execution_count": 25,
   "metadata": {},
   "outputs": [
    {
     "ename": "NameError",
     "evalue": "name 'data' is not defined",
     "output_type": "error",
     "traceback": [
      "\u001b[0;31m---------------------------------------------------------------------------\u001b[0m",
      "\u001b[0;31mNameError\u001b[0m                                 Traceback (most recent call last)",
      "Cell \u001b[0;32mIn[25], line 1\u001b[0m\n\u001b[0;32m----> 1\u001b[0m \u001b[43mdata\u001b[49m\n",
      "\u001b[0;31mNameError\u001b[0m: name 'data' is not defined"
     ]
    }
   ],
   "source": [
    "data"
   ]
  },
  {
   "cell_type": "code",
   "execution_count": null,
   "metadata": {},
   "outputs": [],
   "source": []
  },
  {
   "attachments": {},
   "cell_type": "markdown",
   "metadata": {},
   "source": [
    "## Problem 10: Exchange Rates"
   ]
  },
  {
   "attachments": {},
   "cell_type": "markdown",
   "metadata": {},
   "source": [
    "Write a program `exchange-rates.py` that takes year as an argument and prints minimum and maximum exchange rate of `INR` against `USD` for every month of that year.\n",
    "\n",
    "```\n",
    "$ python exchange-rates.py 2023\n",
    "2023-01 81.12 82.89\n",
    "2023-02 81.8 82.9\n",
    "2023-03 81.82 82.8\n",
    "2023-04 81.72 82.31\n",
    "2023-05 81.71 82.86\n",
    "2023-06 81.89 82.63\n",
    "2023-07 81.81 82.71\n",
    "2023-08 82.28 83.34\n",
    "2023-09 82.68 83.31\n",
    "2023-10 83.06 83.3\n",
    "2023-11 83.08 83.4\n",
    "2023-12 83.08 83.41\n",
    "```\n",
    "\n",
    "You can use the [Frarkfurter Time Series API](https://frankfurter.dev/). For example, the following example gives the exchange rates of INR against USD from 2023-01-01 to 2023-01-10. Please note that some days may be missing as no data will be available on weekends. You can change the date range in the URL to get values of a different date range.\n",
    "\n",
    "```\n",
    "$ curl -s 'https://api.frankfurter.app/2023-01-01..2023-01-10?base=USD&symbols=INR'\n",
    "{\n",
    "  \"amount\": 1,\n",
    "  \"base\": \"USD\",\n",
    "  \"start_date\": \"2023-01-02\",\n",
    "  \"end_date\": \"2023-01-10\",\n",
    "  \"rates\": {\n",
    "    \"2023-01-02\": {\n",
    "      \"INR\": 82.78\n",
    "    },\n",
    "    \"2023-01-03\": {\n",
    "      \"INR\": 82.89\n",
    "    },\n",
    "    \"2023-01-04\": {\n",
    "      \"INR\": 82.83\n",
    "    },\n",
    "    \"2023-01-05\": {\n",
    "      \"INR\": 82.52\n",
    "    },\n",
    "    \"2023-01-06\": {\n",
    "      \"INR\": 82.77\n",
    "    },\n",
    "    \"2023-01-09\": {\n",
    "      \"INR\": 82.35\n",
    "    },\n",
    "    \"2023-01-10\": {\n",
    "      \"INR\": 81.79\n",
    "    }\n",
    "  }\n",
    "}\n",
    "```\n",
    "\n",
    "**Hints:**\n",
    "\n",
    "You can iterate over the keys of a dictionary using a for loop.\n",
    "\n",
    "```python\n",
    "data = {\"x\": 10, \"y\": 20, \"z\": 30}\n",
    "for k in data: \n",
    "    print(k)\n",
    "```\n",
    "\n",
    "Or you can usem in a list comprehension.\n",
    "\n",
    "```python\n",
    "[k for k in data if data[k] > 15]\n",
    "```"
   ]
  },
  {
   "cell_type": "code",
   "execution_count": null,
   "metadata": {},
   "outputs": [],
   "source": []
  },
  {
   "cell_type": "code",
   "execution_count": null,
   "metadata": {},
   "outputs": [],
   "source": []
  },
  {
   "cell_type": "code",
   "execution_count": null,
   "metadata": {},
   "outputs": [],
   "source": []
  },
  {
   "cell_type": "code",
   "execution_count": null,
   "metadata": {},
   "outputs": [],
   "source": []
  }
 ],
 "metadata": {
  "kernelspec": {
   "display_name": "Python 3 (ipykernel)",
   "language": "python",
   "name": "python3"
  },
  "language_info": {
   "codemirror_mode": {
    "name": "ipython",
    "version": 3
   },
   "file_extension": ".py",
   "mimetype": "text/x-python",
   "name": "python",
   "nbconvert_exporter": "python",
   "pygments_lexer": "ipython3",
   "version": "3.12.5"
  }
 },
 "nbformat": 4,
 "nbformat_minor": 4
}
